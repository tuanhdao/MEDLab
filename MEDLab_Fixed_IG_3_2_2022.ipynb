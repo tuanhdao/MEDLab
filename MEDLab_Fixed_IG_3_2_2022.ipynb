{
  "nbformat": 4,
  "nbformat_minor": 0,
  "metadata": {
    "colab": {
      "name": "MEDLab_Fixed_IG_3_2_2022.ipynb",
      "provenance": [],
      "authorship_tag": "ABX9TyNP3xM14abrkzCM97Thgkw4",
      "include_colab_link": true
    },
    "kernelspec": {
      "name": "python3",
      "display_name": "Python 3"
    },
    "language_info": {
      "name": "python"
    }
  },
  "cells": [
    {
      "cell_type": "markdown",
      "metadata": {
        "id": "view-in-github",
        "colab_type": "text"
      },
      "source": [
        "<a href=\"https://colab.research.google.com/github/tuanhdao/MEDLab/blob/main/MEDLab_Fixed_IG_3_2_2022.ipynb\" target=\"_parent\"><img src=\"https://colab.research.google.com/assets/colab-badge.svg\" alt=\"Open In Colab\"/></a>"
      ]
    },
    {
      "cell_type": "markdown",
      "source": [
        "# **Please note: Once these changes are implemented, the task needs to be opened through PsychopPy! Do not use the run.bat terminal.**\n",
        "\n",
        "\n",
        "*   In the search box in the toolbar at the bottom of the screen, search for \n",
        "PsychoPy2 and open the program – PsychoPy Coder should open.\n",
        "* Click on File > Open > name of your file. \n",
        "* Click on the green button with the running person to start the task!\n",
        "\n"
      ],
      "metadata": {
        "id": "hOTKZ4wXxmDG"
      }
    },
    {
      "cell_type": "markdown",
      "source": [
        "# To determine correct parallel port for EEG:"
      ],
      "metadata": {
        "id": "VLjaheo9wIcL"
      }
    },
    {
      "cell_type": "markdown",
      "source": [
        "**Downloading PsychoPy2:** \n",
        "\n",
        "\n",
        "* Use a Windows computer!\n",
        "* Download and install PsychoPy2 version 1.90.3 (choose this file  StandalonePsychoPy2-1.90.3-win32.exe): https://github.com/psychopy/psychopy/releases?page=7\n",
        "\n",
        "**Install correct drivers:**\n",
        "\n",
        "* Download the inpout32.dll driver: http://www.highrez.co.uk/downloads/inpout32/ 32 by clicking on \"Binaries only - x86 & x64 DLLs and libs\" under Downloads. (This file is needed to give Windows access to the parallel port installed in the display computer.)\n",
        "* Unzip the folder, and run “InstallDriver” which is found in the Win32 folder by clicking on the driver. When properly installed, you should get a confirmation message saying it’s done!\n",
        "Copy the inpout.dll file found in the Win32 folder to the following locations:\n",
        "* *Note: it’s possible that it is not required to place the file in all these locations. However, I did just to be safe!* \n",
        "1. C:\\Program Files(x86)\\PsychoPy2\n",
        "2. C:\\Program Files(x86)\\Psychopy2\\DLLs\n",
        "3. The folder where your psychopy script is saved\n",
        "\n",
        "**Get the parallel port address:**\n",
        "* Download the parallel port tester from: http://www.downtowndougbrown.com/2013/06/parallel-port-tester/ \n",
        "* Open the parallel port tester, and choose the parallel port you have installed on the display computer (bottom right corner). This should display the correct address to be used in your Psychopy code. (e.g. mine is a PCIe with address: 0x3FF8). This is the same address that shows up in device manager, if you are more familiar with that method of finding the address.\n",
        "* If you launch BrainVision Recorder on the acquisition computer, go to Amplifier > Digital Port Settings, you will have the parallel port installed on the display computer show up. By turning some pins from low to high (pins 2-9) you should see the pins change in the BrainVision recorder too. This confirms that the parallel port is indeed installed correctly and working ‘manually.’\n",
        "\n",
        "**Deployment**\n",
        "\n",
        "* The best way to get around deploying the script is to continue using the folder layout Kodi has created. The links below include both Kodi’s original versions of the task and the newly edited version. Kodi’s versions are the ones named “exp.” View only versions:\n",
        "  * Teen version (only has negative/positive feedback, no liking ratings, more involved questionnaire at the end): https://www.dropbox.com/sh/i4zfvgae44mln7g/AAD--iwniyBXqDG7ApNSe5QNa?dl=0\n",
        "  * Undergrad version (has liking ratings, “hack” to get past binary gender, less involved questionnaire, fMRI mode): https://www.dropbox.com/sh/1t75405rzgai77n/AAAS53dHbiBt21uaBCliudkza?dl=0\n",
        "\n",
        "\n",
        "\n",
        "\n",
        "\n"
      ],
      "metadata": {
        "id": "ClC2wfdQV-1R"
      }
    },
    {
      "cell_type": "markdown",
      "source": [
        "# To open the task and fix trigger issues:\n",
        "\n",
        "* **Add your PC's name (search for View Your PC Name in the Start menu) to the program.**\n",
        "* Find the code chunk below and add your PC's name:\n",
        "\n",
        "\n",
        "\n"
      ],
      "metadata": {
        "id": "TgSLt7KmwT07"
      }
    },
    {
      "cell_type": "code",
      "source": [
        "# UNDERGRAD VERSION\n",
        "par = dict((('committed', 'Fri Feb 22 14:01:45 2019 -0500'), ('deployed', 'Sat Feb 23 10:07:36 2019'), ('task_version', '51f11b7f67a422727851368261d30dda20489dad'), ('image_dir', 'images/'), ('debug', False), ('eeg', True))); import socket; par[\"fmri_mode\"] = socket.gethostname() == \"PSY-2HJ6HR2\"; par[\"subject_portrait_path\"] = \"C:/subject.jpg\" if socket.gethostname() in [\"TRACLab-wr2\", \"TracLabWhisper2\"] else \"subject.jpg\"; par[\"debug_log_dir\"] = \"output-fmri\"   if par[\"fmri_mode\"] else \"output-eeg\"    if socket.gethostname() in [\"PSY-B4B80M2\", \"PSY-2S5XQP2\", \"Mimi\"] else \"output-age-15\" if socket.gethostname() == \"PsychA115WR\" else \"output\"; par[\"output_path_fmt\"] = \"{}/survivor-{{subject}}.json\".format(par[\"debug_log_dir\"]); par[\"inpout32_addr\"] = None if socket.gethostname() == \"CAPLAB-Whisp2in\" else 53328 if socket.gethostname() in [\"StewsLab-PC\", \"TRACLab-wr2\", \"TracLabWhisper2\"] else 57424 if socket.gethostname() in [\"Kujawa-Task-D45KNSD2\"] else 57360 if socket.gethostname() in [\"PSYCH1457\", \"PSY-B4B80M2\", \"Mimi\"] else 16376 if socket.gethostname() == \"PSY-2S5XQP2\" else 888; par[\"double_draw\"] = socket.gethostname() == \"CAPLAB-Whisp2in\"; par[\"shrink_screen\"] = socket.gethostname() in [\"TRACLab-wr2\", \"TracLabWhisper2\"]\n",
        "\n",
        "#TEEN VERSION\n",
        "par = dict((('committed', 'Mon Oct 15 15:48:02 2018 -0400'), ('deployed', 'Mon Oct 15 15:48:20 2018'), ('task_version', 'b69885cb2278f25a8621ad62c5a95915cdab2e95'), ('image_dir', 'images/'), ('debug', False), ('debug_log_dir', 'output'), ('eeg', True))); import socket; par[\"subject_portrait_path\"] = \"C:/subject.jpg\" if socket.gethostname() in [\"TRACLab-wr2\", \"TracLabWhisper2\"] else \"subject.jpg\"; par[\"output_path_fmt\"] = \"{}/survivor-{{subject}}.json\".format(\"output-age-15\" if socket.gethostname() == \"PsychA115WR\" else \"output\"); par[\"inpout32_addr\"] = None if socket.gethostname() == \"CAPLAB-Whisp2in\" else 53328 if socket.gethostname() in [\"StewsLab-PC\", \"TRACLab-wr2\", \"TracLabWhisper2\"] else 57424 if socket.gethostname() in [\"Kujawa-Task-D45KNSD2\", \"KUJAWA-TASK-D45\"] else 57360 if socket.gethostname() in [\"PSYCH1457\", \"PSY-B4B80M2\"] else 888; par[\"double_draw\"] = socket.gethostname() == \"CAPLAB-Whisp2in\"; par[\"shrink_screen\"] = socket.gethostname() in [\"TRACLab-wr2\", \"TracLabWhisper2\"]"
      ],
      "metadata": {
        "id": "bnR-2YeWVuoQ"
      },
      "execution_count": null,
      "outputs": []
    },
    {
      "cell_type": "markdown",
      "source": [
        "* Add your PC's name to this particular if statement:\n",
        "\n",
        "```\n",
        "else 57360 if socket.gethostname() in [\"PSYCH1457\", \"PSY-B4B80M2\", \"Mimi\"] #Mimi is my computer's name\n",
        "```\n",
        "\n",
        "\n",
        "\n",
        "\n",
        "\n",
        "\n"
      ],
      "metadata": {
        "id": "4ndaTdIEWU-_"
      }
    },
    {
      "cell_type": "markdown",
      "source": [
        "**Find refresh rate of your monitor**\n",
        "\n",
        "\n",
        "* Right-Click your mouse, a drop-down menu will show up.\n",
        "* Choose Display settings\n",
        "* Select: Advanced Display Settings\n",
        "* Find the refresh rate (will say something like 60 Hz)\n",
        "\n",
        "**Find out refresh rate and length of feedback:**\n",
        "\n",
        "\n"
      ],
      "metadata": {
        "id": "zZ44oG0NdDrr"
      }
    },
    {
      "cell_type": "code",
      "source": [
        "refresh = int(input(\"Enter refresh rate - enter the number portion only, e.g. if the monitor is 60 Hz, enter 60. \"))\n",
        "length_feedback = int(input(\"Enter duration of feedback in s - enter number only! \"))"
      ],
      "metadata": {
        "colab": {
          "base_uri": "https://localhost:8080/"
        },
        "id": "pMjOnKmed1Wr",
        "outputId": "5f05266e-5759-4a7b-900e-dbe01761da00"
      },
      "execution_count": null,
      "outputs": [
        {
          "name": "stdout",
          "output_type": "stream",
          "text": [
            "Enter refresh rate - enter the number portion only, e.g. if the monitor is 60 Hz, enter 60. 60\n",
            "Enter duration of feedback in s - enter number only! 2\n"
          ]
        }
      ]
    },
    {
      "cell_type": "markdown",
      "source": [
        "Run following code chunk to find out how many frames the feedback will be shown:"
      ],
      "metadata": {
        "id": "xF_zc55Fesna"
      }
    },
    {
      "cell_type": "code",
      "source": [
        "one_frame = 1/refresh\n",
        "mimi_frames = length_feedback/one_frame\n",
        "print (\"The number of frames:\", mimi_frames)"
      ],
      "metadata": {
        "colab": {
          "base_uri": "https://localhost:8080/"
        },
        "id": "DBnKFnxOeaGL",
        "outputId": "f585d2e5-793d-4830-b3eb-952b330a25a5"
      },
      "execution_count": null,
      "outputs": [
        {
          "output_type": "stream",
          "name": "stdout",
          "text": [
            "The number of frames: 120.0\n"
          ]
        }
      ]
    },
    {
      "cell_type": "markdown",
      "source": [
        "**To open the task and fix the trigger code delay:**\n",
        "* Open the task by searching PsychoPy2. Then click File > Open > click on the file with the task (.py file).\n",
        "* Add this following code chunk underneath line that says \"from sys import argv\"\n",
        "\n",
        "\n",
        "```\n",
        "from psychopy import core\t\n",
        "import psychopy.event\n",
        "from psychopy import locale_setup, sound, gui, visual, core, data, event, logging, clock, parallel\t\n",
        "from psychopy.constants import (NOT_STARTED, STARTED, PLAYING, PAUSED,\t\n",
        "                                STOPPED, FINISHED, PRESSED, RELEASED, FOREVER)\n",
        "```\n",
        "\n"
      ],
      "metadata": {
        "id": "_21OqhyNZkq2"
      }
    },
    {
      "cell_type": "markdown",
      "source": [
        "* Copy the correct address of the parallel port from the parallel port tester\n",
        "* Add this following code chunk underneath the line that says \"o.save('task_version', par['task_version'])\" AND make sure to **CHANGE THE PARALLEL PORT ADDRESS** in the code to your address"
      ],
      "metadata": {
        "id": "apvy7SV5aDPs"
      }
    },
    {
      "cell_type": "code",
      "source": [
        "feedback_trig = parallel.ParallelPort(address=u'0xE010') #change this to be your correct parallel port address\n",
        "mimi = '' #I named my trigger variable mimi just because I wanted to pay homage to my duck, feel free to rename\n",
        "FeedbackClock = core.Clock()"
      ],
      "metadata": {
        "id": "A9NUrbSqWAme"
      },
      "execution_count": null,
      "outputs": []
    },
    {
      "cell_type": "markdown",
      "source": [
        "# Adolescent version"
      ],
      "metadata": {
        "id": "CUb3_U6ufs6N"
      }
    },
    {
      "cell_type": "markdown",
      "source": [
        "\n",
        "\n",
        "```\n",
        "            pv_keep = p['vote'] if practice else p['votes'][nround]\n",
        "            if not practice: o.trigger(trigger_code(p, \n",
        "                'accepting_subject_gets_accept_vote' if sv_keep and pv_keep else\n",
        "                'accepting_subject_gets_reject_vote' if sv_keep and not pv_keep else\n",
        "                'rejecting_subject_gets_accept_vote' if not sv_keep and pv_keep else\n",
        "                'rejecting_subject_gets_reject_vote'))\n",
        "```\n",
        "\n"
      ],
      "metadata": {
        "id": "VAstd8cghkX-"
      }
    },
    {
      "cell_type": "markdown",
      "source": [
        "* Following the chunk of code above, add this code chunk AND CHANGE THE NUMBER OF FRAMES THAT FEEDBACK WILL THAT YOU'VE FOUND OUT ABOVE (if your monitor is 60 Hz, don't change anything!):\n",
        "\n",
        "\n"
      ],
      "metadata": {
        "id": "N0-TlST7ct_B"
      }
    },
    {
      "cell_type": "code",
      "source": [
        "if practice:    \n",
        "  o.wait_screen(2,accept_icon_c if pv_keep else reject_icon_c)    \n",
        "if not practice:    \n",
        "  if sv_keep and pv_keep:    \n",
        "    mimi = 204    #204: subject votes to accept and gets accepted\n",
        "  elif sv_keep and not pv_keep:    \n",
        "    mimi = 205    #205: subject votes to accept and gets rejected\n",
        "  elif not sv_keep and pv_keep:    \n",
        "    mimi = 206    #206: subject votes to reject and get accepted\n",
        "  elif not sv_keep and not pv_keep:    \n",
        "    mimi = 207    #207: subject votes to reject and gets rejected \n",
        "  FeedbackComponents = [feedback_trig]    \n",
        "  for thisComponent in FeedbackComponents:    \n",
        "    if hasattr(thisComponent, 'status'):    \n",
        "      thisComponent.status = NOT_STARTED\n",
        "    FeedbackClock.reset()    \n",
        "    t= 0    \n",
        "    t = FeedbackClock.getTime()    \n",
        "    frameN = -0    \n",
        "    if pv_keep:    \n",
        "      feedback = accept_icon_c    \n",
        "    else:    \n",
        "      feedback = reject_icon_c    \n",
        "      if feedback_trig.status == NOT_STARTED:    \n",
        "        feedback_trig.tStart = t    \n",
        "        feedback_trig.frameNStart = frameN    \n",
        "        feedback_trig.status = STARTED    \n",
        "        for frameN in range (122):    #ENTER THE NUMBER OF FRAMES FEEDBACK WILL BE SHOWN THAT YOU'VE CALCULATED ABOVE\n",
        "          feedback.draw()    \n",
        "          o.win.flip()    \n",
        "          if frameN ==1:    \n",
        "            o.win.callOnFlip(feedback_trig.setData, int(mimi))    \n",
        "          frameRemains = 2.0 + 0.0- o.win.monitorFramePeriod * 0.75  # most of one frame period left    \n",
        "          if feedback_trig.status == STARTED and t >= frameRemains:    \n",
        "            feedback_trig.status = STOPPED    \n",
        "            o.win.callOnFlip(feedback_trig.setData, int(0))    "
      ],
      "metadata": {
        "id": "IslY01uXpOnM"
      },
      "execution_count": null,
      "outputs": []
    },
    {
      "cell_type": "markdown",
      "source": [
        "\n",
        "\n",
        "*   Delete this line by adding # in front of the code:\n",
        "\n",
        "```\n",
        "o.wait_screen(2, accept_icon_c if pv_keep else reject_icon_c)\n",
        "```\n",
        "\n"
      ],
      "metadata": {
        "id": "a0Tk04pFgnx8"
      }
    },
    {
      "cell_type": "markdown",
      "source": [
        "# Undergraduate version\n",
        "\n",
        "After this chunk of code:\n",
        "\n",
        "\n",
        "\n",
        "```\n",
        "if not practice: o.trigger(trigger_code(p, {\n",
        "                    Reject: 'subject_gets_reject_vote',\n",
        "                    Neutral: 'subject_gets_neutral_vote',\n",
        "                    Accept: 'subject_gets_accept_vote'}[pv]))\n",
        "```\n",
        "\n",
        "Add the code below:\n",
        "\n"
      ],
      "metadata": {
        "id": "rytDfLj_fwJK"
      }
    },
    {
      "cell_type": "code",
      "source": [
        " if not practice:\n",
        "  if pv == Accept:\n",
        "      mimi = 204\n",
        "  elif pv == Reject:\n",
        "      mimi = 205\n",
        "  elif pv == Neutral:\n",
        "      mimi = 206\n",
        "  FeedbackComponents = [feedback_trig]\n",
        "  for thisComponent in FeedbackComponents:\n",
        "      if hasattr(thisComponent, 'status'):\n",
        "          thisComponent.status = NOT_STARTED\n",
        "  FeedbackClock.reset()\n",
        "  t= 0\n",
        "  t = FeedbackClock.getTime()\n",
        "  frameN = -1\n",
        "  feedback = pv.icon_c\n",
        "  frameN = frameN + 1\n",
        "  if feedback_trig.status == NOT_STARTED:\n",
        "      feedback_trig.tStart = t\n",
        "      feedback_trig.frameNStart = frameN\n",
        "      feedback_trig.status = STARTED\n",
        "      for frameN in range (120): #edit this\n",
        "          feedback.draw()\n",
        "          o.win.flip()\n",
        "          if frameN ==1:\n",
        "              o.win.callOnFlip(feedback_trig.setData, int(mimi))\n",
        "  frameRemains = 0.0 + 2.0- o.win.monitorFramePeriod * 0.75  # most of one frame period left\n",
        "  if feedback_trig.status == STARTED and t >= frameRemains:\n",
        "      feedback_trig.status = STOPPED\n",
        "      o.win.callOnFlip(feedback_trig.setData, int(0))"
      ],
      "metadata": {
        "id": "XbMXWjOofzK6"
      },
      "execution_count": null,
      "outputs": []
    },
    {
      "cell_type": "markdown",
      "source": [
        "\n",
        "\n",
        "*   Delete this line by adding # in front of the code:\n",
        "\n",
        "```\n",
        "o.wait_screen(2, pv.icon_c)\n",
        "```\n",
        "\n"
      ],
      "metadata": {
        "id": "l8tBkdgWgjNn"
      }
    },
    {
      "cell_type": "markdown",
      "source": [
        "# Adolescent version gender removal"
      ],
      "metadata": {
        "id": "iE-dVm0vv3EU"
      }
    },
    {
      "cell_type": "markdown",
      "source": [
        "**To get past question asking for gender:**\n",
        "* Replace the code chunk below:\n",
        "\n",
        "\n",
        "```\n",
        "with o.dkey_prefix('profile'):\n",
        "            o.button_screen('gender',\n",
        "               o.text(0, .8, 'Now you can fill out your profile.\\n\\nAre you male or female?', vAlign = 'top'),\n",
        "               o.button(-.25, -.7, 'Male'),\n",
        "               o.button(.25, -.7, 'Female'))\n",
        "            if o.data['profile']['gender'] == 'Male':\n",
        "                # Make a male non-expendable female so that there's\n",
        "                # of equal number of male and female players.\n",
        "                transgal = choice([p for p in coplayers if not p['female']])\n",
        "                transgal['female'] = True\n",
        "                transgal['name'] = choice(female_names - {p['name'] for p in coplayers if p['female']})\n",
        "                transgal['portrait'] = choice(female_portraits - {p['portrait'] for p in coplayers if p['female']})\n",
        "```\n",
        "* With this code:\n",
        "\n",
        "```\n",
        "with o.dkey_prefix('profile'):\n",
        "            o.button_screen('gender',\n",
        "               o.text(0, .8, 'CAPTCHA: Please choose the LEFT button to prove you are human', vAlign = 'top'),\n",
        "               o.button(-.25, -.7, 'LEFT'),\n",
        "               o.button(.25, -.7, 'RIGHT'))\n",
        "            if o.data['profile']['gender'] == 'LEFT':\n",
        "                # Make a male non-expendable female so that there's\n",
        "                # of equal number of male and female players.\n",
        "                transgal = choice([p for p in coplayers if not p['female']])\n",
        "                transgal['female'] = True\n",
        "                transgal['name'] = choice(female_names - {p['name'] for p in coplayers if p['female']})\n",
        "                transgal['portrait'] = choice(female_portraits - {p['portrait'] for p in coplayers if p['female']})\n",
        "```\n"
      ],
      "metadata": {
        "id": "SkrtGDn9mK-e"
      }
    },
    {
      "cell_type": "markdown",
      "source": [
        "**To remove gender from showing up on participants' profiles:**\n",
        "\n",
        "* Find the line of code below and add # in front of it:\n",
        "\n",
        "\n",
        "```\n",
        "<b>{}</b><br>'.format(o.data['profile']['gender']) +\n",
        "```\n",
        "* So it will be:\n",
        "\n",
        "\n",
        "\n",
        "```\n",
        "#<b>{}</b><br>'.format(o.data['profile']['gender']) +\n",
        "```\n",
        "\n",
        "\n"
      ],
      "metadata": {
        "id": "UWJh2uqhnjVm"
      }
    },
    {
      "cell_type": "markdown",
      "source": [
        "**To remove gender from co-player's profiles:**\n",
        "* Find this specific line (it appears 3 times in the code) and add # in front of it:\n",
        "\n",
        "\n",
        "```\n",
        "'<b>{}</b><br>'.format('Female' if p['female'] else 'Male') +\n",
        "```\n",
        "* It will look like this:\n",
        "\n",
        "\n",
        "```\n",
        "#'<b>{}</b><br>'.format('Female' if p['female'] else 'Male') +\n",
        "```\n"
      ],
      "metadata": {
        "id": "MtR7emWkrqDk"
      }
    },
    {
      "cell_type": "markdown",
      "source": [
        "**To add gender neutral pronouns during voting:**\n",
        "\n",
        "* Delete:\n",
        "\n",
        "\n",
        "\n",
        "```\n",
        "o.text(0, -.5, color = 'white', wrap = 2, string =\n",
        "                    'Should we keep {} or kick {} out?'.format(\n",
        "                        p['name'], pronoun_obj(p))),\n",
        "```\n",
        "\n",
        "* Add this:\n",
        "\n",
        "\n",
        "\n",
        "```\n",
        "o.text(0, -.5, color = 'white', wrap = 2, string =\n",
        "                    'Should we keep {} or kick them out?'.format(\n",
        "                        p['name']))\n",
        "```\n",
        "\n",
        "\n",
        "\n"
      ],
      "metadata": {
        "id": "bsa2H8rFyBka"
      }
    },
    {
      "cell_type": "markdown",
      "source": [
        "**To add gender neutral pronouns during voting results screen:**\n",
        "\n",
        "* Delete:\n",
        "\n",
        "\n",
        "```\n",
        "            o.okay_screen('loser',\n",
        "                portrait_stim(0, .5, loser),\n",
        "                o.text(0, -.2, \"And it's final decision time. Looks like {} got {} votes to go home! {} journey ends here. You get to continue on to the next island!\".format(\n",
        "                    loser['name'],\n",
        "                    votes_against_loser,\n",
        "                    pronoun_gen(loser).capitalize())))\n",
        "    \n",
        "```\n",
        "* Add this:\n",
        "\n",
        "\n",
        "\n",
        "```\n",
        "            o.okay_screen('loser',\n",
        "                portrait_stim(0, .5, loser),\n",
        "                o.text(0, -.2, \"And it's final decision time. Looks like {} got {} votes to go home! Their journey ends here. You get to continue on to the next island!\".format(\n",
        "                    loser['name'],\n",
        "                    votes_against_loser)))\n",
        "    \n",
        "    \n",
        "```\n",
        "\n",
        "\n"
      ],
      "metadata": {
        "id": "lVSkS7BwydOA"
      }
    },
    {
      "cell_type": "markdown",
      "source": [
        "# To switch to fMRI mode (undergraduate version only!):\n",
        "\n",
        "* Find:\n",
        "\n",
        "\n",
        "```\n",
        "('eeg', True)\n",
        "```\n",
        "* Change to:\n",
        "\n",
        "\n",
        "```\n",
        "('eeg', False)\n",
        "```\n",
        "\n",
        "* Add your computer's name:\n",
        "\n",
        "\n",
        "```\n",
        "par[\"fmri_mode\"] = socket.gethostname() == \"Mimi\" #replace Mimi with your computer's name - THIS IS NOT YOUR USERNAME!\n",
        "```\n",
        "\n",
        "\n"
      ],
      "metadata": {
        "id": "4qnYCbok0Aq4"
      }
    },
    {
      "cell_type": "markdown",
      "source": [
        "# Swapping images:\n",
        "\n",
        "\n",
        "*   There are 2 ways to swap images:\n",
        " *   Replacing existing images by renaming new images to be the same as the existing images.\n",
        " * Adding new images with new names (will be able to retain the old images) - I use this method. \n",
        "\n",
        "\n",
        "\n"
      ],
      "metadata": {
        "id": "aBmfo-XtN_js"
      }
    },
    {
      "cell_type": "markdown",
      "source": [
        "**Preparing images**\n",
        "\n",
        "\n",
        "*   Use paint.net to crop 14 images (the size of the cropping tool should be 144 W px x 216 H px) and you should also resize the picture to be 144 W px x 216 H px. Save your images as JPEGs.\n",
        "*   Come up with a naming convention, for example:\n",
        " *  vanderbilt-bppe(name of study)-m(gender, which is optional)-1(numbers from 1 to 7).jpg \n",
        "* **Make sure to name all the files in a consistent way and that each has its own number.**\n",
        "* Run the task to make sure the images are loaded correctly. \n",
        "\n"
      ],
      "metadata": {
        "id": "g22F7QSYOmsu"
      }
    },
    {
      "cell_type": "markdown",
      "source": [
        "* Find the code chunk loading the images and edit to fit your naming convention.\n",
        "\n",
        "* For example, Kodi's original code is this:\n",
        "\n",
        "```\n",
        "male_portraits = {'vanderbilt-undergrad-eeg-m-{}.jpg'.format(i + 1) for i in range(7)}\n",
        "female_portraits = {'vanderbilt-undergrad-eeg-f-{}.jpg'.format(i + 1) for i in range(7)}      \n",
        "```\n",
        "\n",
        "* Our new task is edited to be: \n",
        "\n",
        "```\n",
        "male_portraits = {'vanderbilt-bppe-eeg-m-{}.jpg'.format(i + 1) for i in range(7)}\n",
        "female_portraits = {'vanderbilt-bppe-eeg-f-{}.jpg'.format(i + 1) for i in range(7)}\n",
        "```\n",
        "\n",
        "\n",
        "\n"
      ],
      "metadata": {
        "id": "pshG9rBdPirZ"
      }
    },
    {
      "cell_type": "markdown",
      "source": [
        "# Changing responses to poll questions:\n",
        "\n",
        "Here is the code chunk with different answers to poll questions and names. Make sure to only edit the text within the apostrophes to make sure you have the correct number of responses.  \n",
        "\n",
        "\n"
      ],
      "metadata": {
        "id": "VyQZW60rRuJM"
      }
    },
    {
      "cell_type": "code",
      "source": [
        "schools = {'Centre College', 'Baylor University', 'Northwestern University', 'Ohio State University', 'Southern Methodist University', 'Purdue University', 'University of Northern Colorado', 'Florida International University', 'Valdosta State University', 'DeVry University', 'Stony Brook University', 'University of Oregon', 'University of Missouri'}\n",
        "interests = {\n",
        "  'College football, exploring my city',\n",
        "  'Learning foreign languages and traveling',\n",
        "  'Reading good books, cooking',\n",
        "  'Visiting national parks, jogging, baking',\n",
        "  'Lacrosse, poetry, hanging with friends',\n",
        "  'business, astronomy, traveling',\n",
        "  'exploring new places, spending time with family and friends',\n",
        "  'sketching, hiking',\n",
        "  'social justice, public policy',\n",
        "  'yoga, soccer',\n",
        "  'volunteering, traveling',\n",
        "  'dogs',\n",
        "  'photography, French'}\n",
        "polls = [\n",
        "  [\"What is your favorite movie?\",\n",
        "      {\"Pulp Fiction\", \"Titanic\", \"Avengers: Infinity War\", \"Harry potter and the deathly hallows (part 1 and 2)\", \"Forrest Gump\", \"A clockwork orange\", \"the matrix\", \"la la land\", \"Black swan\", \"Pitch Perfect\", \"The Lion King\", \"Star Wars the force awakens\"}],\n",
        "  [\"If money didn't matter, what would be your dream job?\",\n",
        "      {\"Broadway singer\", \"Chef\", \"Travel agent\", \"food blogger\", \"Event planner\", \"Children's book illustrator\", \"Antique shop owner\", \"Architect\", \"Astronaut\", \"Chocolatier\", \"advice columnist\"}],\n",
        "  [\"If you had a whole day to do whatever you wanted, what would you do?\",\n",
        "      {\"Sleep\", \"Go for a run and then hang out with friends\", \"Go to the airport and get on a random flight to somewhere I've never been before\", \"Go visit my parents\", \"Sleep late and watch Netflix\", \"Go to a coffee shop and read\", \"Go to the beach\", \"Do yoga in the park and then cook dinner with friends\", \"Go to brunch with my friends\", \"Go on a hike somewhere new\"}],\n",
        "  [\"What is your least favorite class?\",\n",
        "      {\"Chem\", \"Biology\", \"Macro economics\", \"Physics II\", \"Medieval literature\", \"Early American art history\", \"Statistics\", \"History of cinema\", \"Calculus\"}],\n",
        "  [\"If you could have dinner with any person, living or dead, who would it be?\",\n",
        "      {\"Barack Obama\", \"Nelson Mandela\", \"spike lee\", \"Stephen king\", \"John Lennon\", \"Beyonce\", \"Kanye west\", \"Mark Zuckerberg\"}]]"
      ],
      "metadata": {
        "id": "xkuquLaXnnb0"
      },
      "execution_count": null,
      "outputs": []
    },
    {
      "cell_type": "markdown",
      "source": [
        "Example updated version:"
      ],
      "metadata": {
        "id": "uePuPLgJTayn"
      }
    },
    {
      "cell_type": "code",
      "source": [
        "schools = {'Centre College', 'Baylor University', 'Northwestern University', 'Ohio State University', 'Southern Methodist University', 'Purdue University', 'University of Northern Colorado', 'Florida International University', 'Valdosta State University', 'DeVry University', 'Stony Brook University', 'University of Oregon', 'University of Missouri'}\n",
        "interests = {\n",
        "    'College football, exploring my city',\n",
        "    'Learning foreign languages and traveling',\n",
        "    'Reading good books, cooking',\n",
        "    'Visiting national parks, jogging, baking',\n",
        "    'Lacrosse, poetry, hanging with friends',\n",
        "    'business, astronomy, traveling',\n",
        "    'exploring new places, spending time with family and friends',\n",
        "    'sketching, hiking',\n",
        "    'social justice, public policy',\n",
        "    'yoga, soccer',\n",
        "    'volunteering, traveling',\n",
        "    'dogs',\n",
        "    'photography, French'}\n",
        "polls = [\n",
        "    [\"What is your favorite movie?\",\n",
        "        {\"Avatar\", \"Parasite\", \"Lady Bird\", \"Inception\", \"The Royal Tenenbaums\", \"Hercules\", \"the matrix\", \"Semipro\", \"Good will hunting\", \"The Jungle Book\", \"Sound of Music\", \"Dune\"}],\n",
        "    [\"If money didn't matter, what would be your dream job?\",\n",
        "        {\"Broadway singer\", \"chef\", \"Traveler\", \"food blogger\", \"Comedian\", \"an illustrator\", \"Antique shop owner\", \"photographer for national geographic\", \"Astronaut\", \"writer\", \"investigative journalist\"}],\n",
        "    [\"If you had a whole day to do whatever you wanted, what would you do?\",\n",
        "        {\"Sleep\", \"Go for a run and then hang out with friends\", \"Go to the airport and get on a random flight to somewhere I've never been before\", \"Surprise visit my family\", \"Sleep late and watch Netflix\", \"Go to a coffee shop and read\", \"Go to the beach\", \"Take my dog to the park and then cook dinner with friends\", \"Go to brunch with my friends\", \"Go on a hike somewhere new\"}],\n",
        "    [\"What is your least favorite class?\",\n",
        "        {\"Gen chem\", \"Biology\", \"Macro economics\", \"Physics II\", \"public speaking\", \"Early American art history\", \"Statistics\", \"History of cinema\", \"Calculus\"}],\n",
        "    [\"If you could have dinner with any person, living or dead, who would it be?\",\n",
        "        {\"Barack Obama\", \"Cleopatra\", \"RBG\", \"John Steinbeck\", \"Barbara Streisand\", \"James Baldwin\", \"Cast of queer eye\", \"Christina Grimmie\"}]]\n"
      ],
      "metadata": {
        "id": "O3SHMwZUTaXu"
      },
      "execution_count": null,
      "outputs": []
    },
    {
      "cell_type": "markdown",
      "source": [
        "# Troubleshooting common issues:\n",
        "\n",
        "\n",
        "*   Triggers are not working:\n",
        "  * Is the parallel port address correct?\n",
        "  * Have you added your computer name to the if statement with socket names? If yes, check I/O port addresses on your computer.  \n",
        "\n"
      ],
      "metadata": {
        "id": "sXV6Q9dtVH7Q"
      }
    }
  ]
}