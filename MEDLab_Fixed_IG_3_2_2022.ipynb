{
  "nbformat": 4,
  "nbformat_minor": 0,
  "metadata": {
    "colab": {
      "name": "MEDLab_Fixed_IG_3_2_2022.ipynb",
      "provenance": [],
      "authorship_tag": "ABX9TyOavu/GMbpn7M/YVil3oInN",
      "include_colab_link": true
    },
    "kernelspec": {
      "name": "python3",
      "display_name": "Python 3"
    },
    "language_info": {
      "name": "python"
    }
  },
  "cells": [
    {
      "cell_type": "markdown",
      "metadata": {
        "id": "view-in-github",
        "colab_type": "text"
      },
      "source": [
        "<a href=\"https://colab.research.google.com/github/tuanhdao/MEDLab/blob/main/MEDLab_Fixed_IG_3_2_2022.ipynb\" target=\"_parent\"><img src=\"https://colab.research.google.com/assets/colab-badge.svg\" alt=\"Open In Colab\"/></a>"
      ]
    },
    {
      "cell_type": "markdown",
      "source": [
        ""
      ],
      "metadata": {
        "id": "vraOFh9uW6Rn"
      }
    },
    {
      "cell_type": "markdown",
      "source": [
        "# To determine correct parallel port for EEG:"
      ],
      "metadata": {
        "id": "VLjaheo9wIcL"
      }
    },
    {
      "cell_type": "markdown",
      "source": [
        "**Downloading PsychoPy2:** \n",
        "\n",
        "\n",
        "* Use a Windows computer!\n",
        "* Download and install PsychoPy2 version 1.90.3 (choose this file  StandalonePsychoPy2-1.90.3-win32.exe): https://github.com/psychopy/psychopy/releases?page=7\n",
        "\n",
        "**Install correct drivers:**\n",
        "\n",
        "* Download the inpout32.dll driver: http://www.highrez.co.uk/downloads/inpout32/ 32 by clicking on \"Binaries only - x86 & x64 DLLs and libs\" under Downloads. (This file is needed to give Windows access to the parallel port installed in the display computer.)\n",
        "* Unzip the folder, and run “InstallDriver” which is found in the Win32 folder by clicking on the driver. When properly installed, you should get a confirmation message saying it’s done!\n",
        "Copy the inpout.dll file found in the Win32 folder to the following locations:\n",
        "* *Note: it’s possible that it is not required to place the file in all these locations. However, I did just to be safe!* \n",
        "1. C:\\Program Files(x86)\\PsychoPy2\n",
        "2. C:\\Program Files(x86)\\Psychopy2\\DLLs\n",
        "3. The folder where your psychopy script is saved\n",
        "\n",
        "**Get the parallel port address:**\n",
        "* Download the parallel port tester from: http://www.downtowndougbrown.com/2013/06/parallel-port-tester/ \n",
        "* Open the parallel port tester, and choose the parallel port you have installed on the display computer (bottom right corner). This should display the correct address to be used in your Psychopy code. (e.g. mine is a PCIe with address: 0x3FF8). This is the same address that shows up in device manager, if you are more familiar with that method of finding the address.\n",
        "* If you launch BrainVision Recorder on the acquisition computer, go to Amplifier > Digital Port Settings, you will have the parallel port installed on the display computer show up. By turning some pins from low to high (pins 2-9) you should see the pins change in the BrainVision recorder too. This confirms that the parallel port is indeed installed correctly and working ‘manually.’\n",
        "\n",
        "**Deployment**\n",
        "\n",
        "* The best way to get around deploying the script is to continue using the folder layout Kodi has created. The links below include both Kodi’s original versions of the task and the newly edited version. Kodi’s versions are the ones named “exp.”\n",
        "  * Teen version (only has negative/positive feedback, no liking ratings, more involved questionnaire at the end): https://www.dropbox.com/sh/i4zfvgae44mln7g/AAD--iwniyBXqDG7ApNSe5QNa?dl=0\n",
        "  * Undergrad version (has liking ratings, “hack” to get past binary gender, less involved questionnaire, fMRI mode): https://www.dropbox.com/sh/1t75405rzgai77n/AAAS53dHbiBt21uaBCliudkza?dl=0\n",
        "\n",
        "\n",
        "\n",
        "\n",
        "\n"
      ],
      "metadata": {
        "id": "ClC2wfdQV-1R"
      }
    },
    {
      "cell_type": "markdown",
      "source": [
        "# To open the task and fix trigger issues:"
      ],
      "metadata": {
        "id": "TgSLt7KmwT07"
      }
    },
    {
      "cell_type": "markdown",
      "source": [
        "**Find refresh rate of your monitor**\n",
        "\n",
        "\n",
        "* Right-Click your mouse, a drop-down menu will show up.\n",
        "* Choose Display settings\n",
        "* Select: Advanced Display Settings\n",
        "* Find the refresh rate (will say something like 60 Hz)\n",
        "\n",
        "**Find out refresh rate and length of feedback:**\n",
        "\n",
        "\n"
      ],
      "metadata": {
        "id": "zZ44oG0NdDrr"
      }
    },
    {
      "cell_type": "code",
      "source": [
        "refresh = int(input(\"Enter refresh rate - enter the number portion only, e.g. if the monitor is 60 Hz, enter 60. \"))\n",
        "length_feedback = int(input(\"Enter duration of feedback - enter number only! \"))"
      ],
      "metadata": {
        "colab": {
          "base_uri": "https://localhost:8080/"
        },
        "id": "pMjOnKmed1Wr",
        "outputId": "cc4564cc-4571-405c-cd24-96ea5d94282b"
      },
      "execution_count": 10,
      "outputs": [
        {
          "name": "stdout",
          "output_type": "stream",
          "text": [
            "Enter refresh rate - enter the number portion only, e.g. if the monitor is 60 Hz, enter 60. 60\n",
            "Enter duration of feedback - enter number only! 2\n"
          ]
        }
      ]
    },
    {
      "cell_type": "markdown",
      "source": [
        "Run following code chunk to find out how many frames the feedback will be shown:"
      ],
      "metadata": {
        "id": "xF_zc55Fesna"
      }
    },
    {
      "cell_type": "code",
      "source": [
        "mimi_frames = (length_feedback * refresh) + 2\n",
        "print (\"The number of frames:\", mimi_frames)"
      ],
      "metadata": {
        "colab": {
          "base_uri": "https://localhost:8080/"
        },
        "id": "DBnKFnxOeaGL",
        "outputId": "821c9634-2987-4a1f-d838-068736e0bc4d"
      },
      "execution_count": 11,
      "outputs": [
        {
          "output_type": "stream",
          "name": "stdout",
          "text": [
            "The number of frames: 122\n"
          ]
        }
      ]
    },
    {
      "cell_type": "markdown",
      "source": [
        "**To open the task and fix the trigger code delay:**\n",
        "* Open the task by searching PsychoPy2. Then click File > Open > click on the file with the task (.py file).\n",
        "* Add this following code chunk underneath line that says \"from sys import argv\"\n",
        "\n",
        "\n",
        "```\n",
        "from psychopy import core\t\n",
        "import psychopy.event\n",
        "from psychopy import locale_setup, sound, gui, visual, core, data, event, logging, clock, parallel\t\n",
        "from psychopy.constants import (NOT_STARTED, STARTED, PLAYING, PAUSED,\t\n",
        "                                STOPPED, FINISHED, PRESSED, RELEASED, FOREVER)\n",
        "```\n",
        "\n"
      ],
      "metadata": {
        "id": "_21OqhyNZkq2"
      }
    },
    {
      "cell_type": "markdown",
      "source": [
        "* Copy the correct address of the parallel port from the parallel port tester\n",
        "* Add this following code chunk underneath the line that says \"o.save('task_version', par['task_version'])\" AND make sure to **CHANGE THE PARALLEL PORT ADDRESS** in the code to your address"
      ],
      "metadata": {
        "id": "apvy7SV5aDPs"
      }
    },
    {
      "cell_type": "code",
      "source": [
        "feedback_trig = parallel.ParallelPort(address=u'0xE010') #change this to be your correct parallel port address\n",
        "mimi = '' #I named my trigger variable mimi just because I wanted to pay homage to my duck, feel free to rename\n",
        "FeedbackClock = core.Clock()"
      ],
      "metadata": {
        "id": "A9NUrbSqWAme"
      },
      "execution_count": null,
      "outputs": []
    },
    {
      "cell_type": "markdown",
      "source": [
        "\n",
        "\n",
        "*   Delete this line by adding # in front of the code:\n",
        "\n",
        "```\n",
        "o.wait_screen(2, accept_icon_c if pv_keep else reject_icon_c)\n",
        "```\n",
        "\n"
      ],
      "metadata": {
        "id": "6_-NzWtSa_hc"
      }
    },
    {
      "cell_type": "markdown",
      "source": [
        "* Following the line of code above, add this code chunk AND CHANGE THE NUMBER OF FRAMES THAT FEEDBACK WILL THAT YOU'VE FOUND OUT ABOVE (if your monitor is 60 Hz, don't change anything!):\n",
        "\n",
        "\n"
      ],
      "metadata": {
        "id": "N0-TlST7ct_B"
      }
    },
    {
      "cell_type": "code",
      "source": [
        "if practice:    \n",
        "  o.wait_screen(2,accept_icon_c if pv_keep else reject_icon_c)    \n",
        "if not practice:    \n",
        "  if sv_keep and pv_keep:    \n",
        "    mimi = 204    #204: subject votes to accept and gets accepted\n",
        "  elif sv_keep and not pv_keep:    \n",
        "    mimi = 205    #205: subject votes to accept and gets rejected\n",
        "  elif not sv_keep and pv_keep:    \n",
        "    mimi = 206    #206: subject votes to reject and get accepted\n",
        "  elif not sv_keep and not pv_keep:    \n",
        "    mimi = 207    #207: subject votes to reject and gets rejected \n",
        "  FeedbackComponents = [feedback_trig]    \n",
        "  for thisComponent in FeedbackComponents:    \n",
        "    if hasattr(thisComponent, 'status'):    \n",
        "      thisComponent.status = NOT_STARTED\n",
        "    FeedbackClock.reset()    \n",
        "    t= 0    \n",
        "    t = FeedbackClock.getTime()    \n",
        "    frameN = -0    \n",
        "    if pv_keep:    \n",
        "      feedback = accept_icon_c    \n",
        "    else:    \n",
        "      feedback = reject_icon_c    \n",
        "      if feedback_trig.status == NOT_STARTED:    \n",
        "        feedback_trig.tStart = t    \n",
        "        feedback_trig.frameNStart = frameN    \n",
        "        feedback_trig.status = STARTED    \n",
        "        for frameN in range (122):    #ENTER THE NUMBER OF FRAMES FEEDBACK WILL BE SHOWN THAT YOU'VE CALCULATED ABOVE\n",
        "          feedback.draw()    \n",
        "          o.win.flip()    \n",
        "          if frameN ==1:    \n",
        "            o.win.callOnFlip(feedback_trig.setData, int(mimi))    \n",
        "          frameRemains = 2.0 + 0.0- o.win.monitorFramePeriod * 0.75  # most of one frame period left    \n",
        "          if feedback_trig.status == STARTED and t >= frameRemains:    \n",
        "            feedback_trig.status = STOPPED    \n",
        "            o.win.callOnFlip(feedback_trig.setData, int(0))    \n",
        "o.wait_screen(1.5)"
      ],
      "metadata": {
        "id": "IslY01uXpOnM"
      },
      "execution_count": null,
      "outputs": []
    },
    {
      "cell_type": "markdown",
      "source": [
        "# Adolescent version gender removal"
      ],
      "metadata": {
        "id": "iE-dVm0vv3EU"
      }
    },
    {
      "cell_type": "markdown",
      "source": [
        "**To get past question asking for gender:**\n",
        "* Replace the code chunk below:\n",
        "\n",
        "\n",
        "```\n",
        "with o.dkey_prefix('profile'):\n",
        "            o.button_screen('gender',\n",
        "               o.text(0, .8, 'Now you can fill out your profile.\\n\\nAre you male or female?', vAlign = 'top'),\n",
        "               o.button(-.25, -.7, 'Male'),\n",
        "               o.button(.25, -.7, 'Female'))\n",
        "            if o.data['profile']['gender'] == 'Male':\n",
        "                # Make a male non-expendable female so that there's\n",
        "                # of equal number of male and female players.\n",
        "                transgal = choice([p for p in coplayers if not p['female']])\n",
        "                transgal['female'] = True\n",
        "                transgal['name'] = choice(female_names - {p['name'] for p in coplayers if p['female']})\n",
        "                transgal['portrait'] = choice(female_portraits - {p['portrait'] for p in coplayers if p['female']})\n",
        "```\n",
        "* With this code:\n",
        "\n",
        "```\n",
        "with o.dkey_prefix('profile'):\n",
        "            o.button_screen('gender',\n",
        "               o.text(0, .8, 'CAPTCHA: Please choose the LEFT button to prove you are human', vAlign = 'top'),\n",
        "               o.button(-.25, -.7, 'LEFT'),\n",
        "               o.button(.25, -.7, 'RIGHT'))\n",
        "            if o.data['profile']['gender'] == 'LEFT':\n",
        "                # Make a male non-expendable female so that there's\n",
        "                # of equal number of male and female players.\n",
        "                transgal = choice([p for p in coplayers if not p['female']])\n",
        "                transgal['female'] = True\n",
        "                transgal['name'] = choice(female_names - {p['name'] for p in coplayers if p['female']})\n",
        "                transgal['portrait'] = choice(female_portraits - {p['portrait'] for p in coplayers if p['female']})\n",
        "```\n"
      ],
      "metadata": {
        "id": "SkrtGDn9mK-e"
      }
    },
    {
      "cell_type": "markdown",
      "source": [
        "**To remove gender from showing up on participants' profiles:**\n",
        "\n",
        "* Find the line of code below and add # in front of it:\n",
        "\n",
        "\n",
        "```\n",
        "<b>{}</b><br>'.format(o.data['profile']['gender']) +\n",
        "```\n",
        "* So it will be:\n",
        "\n",
        "\n",
        "\n",
        "```\n",
        "#<b>{}</b><br>'.format(o.data['profile']['gender']) +\n",
        "```\n",
        "\n",
        "\n"
      ],
      "metadata": {
        "id": "UWJh2uqhnjVm"
      }
    },
    {
      "cell_type": "markdown",
      "source": [
        "**To remove gender from co-player's profiles during initial profile review:**\n",
        "* Find this line and add # in front of it:\n",
        "\n",
        "\n",
        "```\n",
        "'<b>{}</b><br>'.format('Female' if p['female'] else 'Male') +\n",
        "```\n",
        "* It will look like this:\n",
        "\n",
        "\n",
        "```\n",
        "#'<b>{}</b><br>'.format('Female' if p['female'] else 'Male') +\n",
        "```\n",
        "\n",
        "\n"
      ],
      "metadata": {
        "id": "XzSjZo76oROA"
      }
    },
    {
      "cell_type": "markdown",
      "source": [
        "**To remove gender from co-player's profiles voting:**\n",
        "* Find this specific line (it appears 2 times in the code) and add # in front of it:\n",
        "\n",
        "\n",
        "```\n",
        "'<b>{}</b><br>'.format('Female' if p['female'] else 'Male') +\n",
        "```\n",
        "* It will look like this:\n",
        "\n",
        "\n",
        "```\n",
        "#'<b>{}</b><br>'.format('Female' if p['female'] else 'Male') +\n",
        "```\n"
      ],
      "metadata": {
        "id": "MtR7emWkrqDk"
      }
    },
    {
      "cell_type": "markdown",
      "source": [
        "**To add gender neutral pronouns during voting:**\n",
        "\n",
        "* Delete:\n",
        "\n",
        "\n",
        "\n",
        "```\n",
        "o.text(0, -.5, color = 'white', wrap = 2, string =\n",
        "                    'Should we keep {} or kick {} out?'.format(\n",
        "                        p['name'], pronoun_obj(p))),\n",
        "```\n",
        "\n",
        "* Add this:\n",
        "\n",
        "\n",
        "\n",
        "```\n",
        "o.text(0, -.5, color = 'white', wrap = 2, string =\n",
        "                    'Should we keep {} or kick them out?'.format(\n",
        "                        p['name']))\n",
        "```\n",
        "\n",
        "\n",
        "\n"
      ],
      "metadata": {
        "id": "bsa2H8rFyBka"
      }
    },
    {
      "cell_type": "markdown",
      "source": [
        "**To add gender neutral pronouns during voting results screen:**\n",
        "\n",
        "* Delete:\n",
        "\n",
        "\n",
        "```\n",
        "            o.okay_screen('loser',\n",
        "                portrait_stim(0, .5, loser),\n",
        "                o.text(0, -.2, \"And it's final decision time. Looks like {} got {} votes to go home! {} journey ends here. You get to continue on to the next island!\".format(\n",
        "                    loser['name'],\n",
        "                    votes_against_loser,\n",
        "                    pronoun_gen(loser).capitalize())))\n",
        "    \n",
        "```\n",
        "* Add this:\n",
        "\n",
        "\n",
        "\n",
        "```\n",
        "            o.okay_screen('loser',\n",
        "                portrait_stim(0, .5, loser),\n",
        "                o.text(0, -.2, \"And it's final decision time. Looks like {} got {} votes to go home! Their journey ends here. You get to continue on to the next island!\".format(\n",
        "                    loser['name'],\n",
        "                    votes_against_loser)))\n",
        "    \n",
        "    \n",
        "```\n",
        "\n",
        "\n"
      ],
      "metadata": {
        "id": "lVSkS7BwydOA"
      }
    },
    {
      "cell_type": "markdown",
      "source": [
        "# To switch to fMRI mode (undergraduate version only!):\n",
        "\n",
        "* Find:\n",
        "\n",
        "\n",
        "```\n",
        "('eeg', True)\n",
        "```\n",
        "* Change to:\n",
        "\n",
        "\n",
        "```\n",
        "('eeg', False)\n",
        "```\n",
        "\n",
        "* Add your computer's name:\n",
        "\n",
        "\n",
        "```\n",
        "par[\"fmri_mode\"] = socket.gethostname() == \"Mimi\" #replace Mimi with your computer's name\n",
        "```\n",
        "\n",
        "\n"
      ],
      "metadata": {
        "id": "4qnYCbok0Aq4"
      }
    },
    {
      "cell_type": "code",
      "source": [
        ""
      ],
      "metadata": {
        "id": "xkuquLaXnnb0"
      },
      "execution_count": null,
      "outputs": []
    }
  ]
}