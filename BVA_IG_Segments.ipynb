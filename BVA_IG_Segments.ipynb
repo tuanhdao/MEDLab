{
  "nbformat": 4,
  "nbformat_minor": 0,
  "metadata": {
    "colab": {
      "name": "BVA.ipynb",
      "provenance": [],
      "collapsed_sections": [],
      "mount_file_id": "12wQLCT99iDd40w0UiWDMAqGLjN5FlC43",
      "authorship_tag": "ABX9TyMReItOh32n+wSKBWS1H84j",
      "include_colab_link": true
    },
    "kernelspec": {
      "name": "python3",
      "display_name": "Python 3"
    },
    "language_info": {
      "name": "python"
    }
  },
  "cells": [
    {
      "cell_type": "markdown",
      "metadata": {
        "id": "view-in-github",
        "colab_type": "text"
      },
      "source": [
        "<a href=\"https://colab.research.google.com/github/tuanhdao/FYRE/blob/main/BVA.ipynb\" target=\"_parent\"><img src=\"https://colab.research.google.com/assets/colab-badge.svg\" alt=\"Open In Colab\"/></a>"
      ]
    },
    {
      "cell_type": "code",
      "metadata": {
        "id": "oj1BlY4GNFny",
        "colab": {
          "base_uri": "https://localhost:8080/"
        },
        "outputId": "d112518b-3697-44e2-8bef-a275c68d1f20"
      },
      "source": [
        "# Open file and delete first 5 lines which we don't need to use and save it as a new clean file\n",
        "with open('Acc_segments.txt') as f: #CHANGE THIS TO YOUR FILE'S NAME\n",
        "    lines = f.readlines()\n",
        "    del lines[0:5]\n",
        "new_file = open(\"Acc_Segments_clean.txt\", \"w+\")\n",
        "for line in lines:\n",
        "    clean_file = new_file.write(line)\n",
        "new_file.close()\n",
        "condition = input(\"Acc or Rej? This will be to name the file only. \")"
      ],
      "execution_count": null,
      "outputs": [
        {
          "output_type": "stream",
          "text": [
            "Acc or Rej? This will be to name the file only. Acc\n"
          ],
          "name": "stdout"
        }
      ]
    },
    {
      "cell_type": "code",
      "metadata": {
        "colab": {
          "base_uri": "https://localhost:8080/"
        },
        "id": "EWkTywBJ2tHa",
        "outputId": "7f42f636-1945-432a-8b83-df4626c52567"
      },
      "source": [
        "#gets the number of lines and case count\n",
        "file = open(\"Acc_Segments_clean.txt\", \"r\")\n",
        "number_of_lines = 0\n",
        "case_count = 0\n",
        "for line in file:\n",
        "  number_of_lines += 1\n",
        "  if \"ig\" in line:\n",
        "    case_count += 1\n",
        "length_segment = int(number_of_lines/case_count)\n",
        "print(\"Case count: \", case_count)\n",
        "print(\"Number of lines: \", number_of_lines)\n",
        "print(\"Length of segment: \", length_segment)\n",
        "file.close()"
      ],
      "execution_count": 17,
      "outputs": [
        {
          "output_type": "stream",
          "text": [
            "Case count:  407\n",
            "Number of lines:  21572\n",
            "Length of segment:  53\n"
          ],
          "name": "stdout"
        }
      ]
    },
    {
      "cell_type": "code",
      "metadata": {
        "id": "7uPQhlHuS91G"
      },
      "source": [
        "#import packages\n",
        "import pandas as pd\n",
        "from IPython.display import display\n",
        "import re"
      ],
      "execution_count": 42,
      "outputs": []
    },
    {
      "cell_type": "code",
      "metadata": {
        "id": "ZwS-PF4pS36b"
      },
      "source": [
        "#Get IDs\n",
        "f = open('Acc_Segments_clean.txt')\n",
        "count = 0  \n",
        "entry = range(2, number_of_lines, length_segment)  \n",
        "list_id = []\n",
        "for line in f:\n",
        "  count += 1\n",
        "  for n in entry:\n",
        "    if count == n: \n",
        "      id = line\n",
        "      id_clean = id.replace(\"\\n\",\"\") #delete trailing white space\n",
        "      list_id.append(id_clean)\n",
        "id_df = pd.DataFrame (list_id,columns=['ID']) #create dataframe"
      ],
      "execution_count": null,
      "outputs": []
    },
    {
      "cell_type": "code",
      "metadata": {
        "colab": {
          "base_uri": "https://localhost:8080/",
          "height": 431
        },
        "id": "WytzV5DpT3VH",
        "outputId": "a718e9dd-5486-47f2-94fe-c8d5db9e7e81"
      },
      "source": [
        "lookup = input(\"Electrode (MUST BE WRITTEN AS IT IS IN THE MACRO): \")\n",
        "number_segments_all_other = []\n",
        "number_segments_Cz_FCz = []\n",
        "#Ok now the program will look up the line associated with the chosen electrode\n",
        "for line in lines:\n",
        "  if lookup in line:\n",
        "    value = line.strip()\n",
        "    if lookup == \"Cz\" or lookup == \"FCz\": #beware of Cz and FCz because they share the same characters in the name\n",
        "      number_segments_Cz_FCz.append(value) #separate list for Cz FCz values\n",
        "      N=2\n",
        "      sub_Cz_FCz_list = [number_segments_Cz_FCz[n:n+N] for n in range(0, \n",
        "      len(number_segments_Cz_FCz), N)] #this parses the list into smaller lists of 2 elements\n",
        "      values_Cz_FCz = []\n",
        "      for i in sub_Cz_FCz_list:\n",
        "        for k in i:\n",
        "          split_Cz_FCz = re.split(r'\\t+', k)\n",
        "          values_Cz_FCz.append(split_Cz_FCz[-1:])\n",
        "          flat_list_Cz_FCz = []\n",
        "          for sublist in values_Cz_FCz:\n",
        "            for item in sublist:\n",
        "              flat_list_Cz_FCz.append(item)\n",
        "      sub_Cz_FCz_list_2 = [flat_list[n:n+N] for n in range(0, \n",
        "      len(values_Cz_FCz), N)] #pair the elements again to be in twos\n",
        "      number_segments_df = pd.DataFrame(sub_Cz_FCz_list_2) #create a data frame\n",
        "      frame = [id_df, number_segments_df]\n",
        "    else:\n",
        "      number_segments_all_other.append(value)\n",
        "      values_all_other = []  #for all other electrodes\n",
        "      for i in number_segments_all_other:\n",
        "        split_other = re.split(r'\\t+', i)\n",
        "        values_all_other.append(split_other[-1:])\n",
        "        flat_list_other = []\n",
        "        for sublist in values_all_other: \n",
        "          for item in sublist:\n",
        "            flat_list_other.append(item)\n",
        "      number_segments_df = pd.DataFrame(flat_list_other)\n",
        "\n",
        "#Create a list of IDs and segments\n",
        "concatenate = [id_df, number_segments_df]\n",
        "\n",
        "#merge ID and electrode values so that we add new variables, not cases\n",
        "frame= pd.concat(concatenate, axis = 1) \n",
        "df = pd.DataFrame(frame)\n",
        "final_renamed_df = df.copy(deep=True)\n",
        "\n",
        "#rename columns to show which electrode is used\n",
        "if lookup == \"Cz\" or lookup == \"FCz\":\n",
        "  final_renamed_df.columns = [\"ID\", \"Cz\", \"FCz\"]\n",
        "else:\n",
        "  final_renamed_df.columns = [\"ID\", lookup]\n",
        "\n",
        "#display the final data frame to check for accuracy)\n",
        "display(final_renamed_df)\n",
        "\n",
        "#Save to a CSV file\n",
        "final_renamed_df.to_csv(\"/content/drive/MyDrive/\" + \"{}{}{}.csv\".format(condition, \"_\", lookup), index = False)"
      ],
      "execution_count": 62,
      "outputs": [
        {
          "output_type": "stream",
          "text": [
            "Electrode (MUST BE WRITTEN AS IT IS IN THE MACRO): Cz\n"
          ],
          "name": "stdout"
        },
        {
          "output_type": "display_data",
          "data": {
            "text/html": [
              "<div>\n",
              "<style scoped>\n",
              "    .dataframe tbody tr th:only-of-type {\n",
              "        vertical-align: middle;\n",
              "    }\n",
              "\n",
              "    .dataframe tbody tr th {\n",
              "        vertical-align: top;\n",
              "    }\n",
              "\n",
              "    .dataframe thead th {\n",
              "        text-align: right;\n",
              "    }\n",
              "</style>\n",
              "<table border=\"1\" class=\"dataframe\">\n",
              "  <thead>\n",
              "    <tr style=\"text-align: right;\">\n",
              "      <th></th>\n",
              "      <th>ID</th>\n",
              "      <th>Cz</th>\n",
              "      <th>FCz</th>\n",
              "    </tr>\n",
              "  </thead>\n",
              "  <tbody>\n",
              "    <tr>\n",
              "      <th>0</th>\n",
              "      <td>001_ig</td>\n",
              "      <td>24</td>\n",
              "      <td>24</td>\n",
              "    </tr>\n",
              "    <tr>\n",
              "      <th>1</th>\n",
              "      <td>002_ig</td>\n",
              "      <td>20</td>\n",
              "      <td>18</td>\n",
              "    </tr>\n",
              "    <tr>\n",
              "      <th>2</th>\n",
              "      <td>004_ig</td>\n",
              "      <td>25</td>\n",
              "      <td>25</td>\n",
              "    </tr>\n",
              "    <tr>\n",
              "      <th>3</th>\n",
              "      <td>006_ig</td>\n",
              "      <td>17</td>\n",
              "      <td>18</td>\n",
              "    </tr>\n",
              "    <tr>\n",
              "      <th>4</th>\n",
              "      <td>007_ig</td>\n",
              "      <td>24</td>\n",
              "      <td>25</td>\n",
              "    </tr>\n",
              "    <tr>\n",
              "      <th>...</th>\n",
              "      <td>...</td>\n",
              "      <td>...</td>\n",
              "      <td>...</td>\n",
              "    </tr>\n",
              "    <tr>\n",
              "      <th>402</th>\n",
              "      <td>642_ig</td>\n",
              "      <td>25</td>\n",
              "      <td>25</td>\n",
              "    </tr>\n",
              "    <tr>\n",
              "      <th>403</th>\n",
              "      <td>643_ig</td>\n",
              "      <td>26</td>\n",
              "      <td>26</td>\n",
              "    </tr>\n",
              "    <tr>\n",
              "      <th>404</th>\n",
              "      <td>645_ig</td>\n",
              "      <td>21</td>\n",
              "      <td>21</td>\n",
              "    </tr>\n",
              "    <tr>\n",
              "      <th>405</th>\n",
              "      <td>646_ig</td>\n",
              "      <td>25</td>\n",
              "      <td>25</td>\n",
              "    </tr>\n",
              "    <tr>\n",
              "      <th>406</th>\n",
              "      <td>647_ig</td>\n",
              "      <td>26</td>\n",
              "      <td>26</td>\n",
              "    </tr>\n",
              "  </tbody>\n",
              "</table>\n",
              "<p>407 rows × 3 columns</p>\n",
              "</div>"
            ],
            "text/plain": [
              "         ID  Cz FCz\n",
              "0    001_ig  24  24\n",
              "1    002_ig  20  18\n",
              "2    004_ig  25  25\n",
              "3    006_ig  17  18\n",
              "4    007_ig  24  25\n",
              "..      ...  ..  ..\n",
              "402  642_ig  25  25\n",
              "403  643_ig  26  26\n",
              "404  645_ig  21  21\n",
              "405  646_ig  25  25\n",
              "406  647_ig  26  26\n",
              "\n",
              "[407 rows x 3 columns]"
            ]
          },
          "metadata": {
            "tags": []
          }
        }
      ]
    }
  ]
}
