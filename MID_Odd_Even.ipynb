{
  "nbformat": 4,
  "nbformat_minor": 0,
  "metadata": {
    "colab": {
      "name": "MID Odd Even.ipynb",
      "provenance": [],
      "mount_file_id": "1Or_BS6plv8_S3NcgYruKu-bZkRaSxaGw",
      "authorship_tag": "ABX9TyP/ZTSCOndEEUzZjOLi7QMP",
      "include_colab_link": true
    },
    "kernelspec": {
      "name": "python3",
      "display_name": "Python 3"
    },
    "language_info": {
      "name": "python"
    }
  },
  "cells": [
    {
      "cell_type": "markdown",
      "metadata": {
        "id": "view-in-github",
        "colab_type": "text"
      },
      "source": [
        "<a href=\"https://colab.research.google.com/github/tuanhdao/FYRE/blob/main/MID_Odd_Even.ipynb\" target=\"_parent\"><img src=\"https://colab.research.google.com/assets/colab-badge.svg\" alt=\"Open In Colab\"/></a>"
      ]
    },
    {
      "cell_type": "code",
      "metadata": {
        "id": "Hkg_2lF_fDaD",
        "colab": {
          "base_uri": "https://localhost:8080/"
        },
        "outputId": "24c33d8d-e606-4c7c-f143-b80a718c62dd"
      },
      "source": [
        "# Install mat73 to display v. 7.3. Matlab files\n",
        "pip install mat73 "
      ],
      "execution_count": 1,
      "outputs": [
        {
          "output_type": "stream",
          "text": [
            "Requirement already satisfied: mat73 in /usr/local/lib/python3.7/dist-packages (0.46)\n",
            "Requirement already satisfied: numpy in /usr/local/lib/python3.7/dist-packages (from mat73) (1.19.5)\n",
            "Requirement already satisfied: h5py in /usr/local/lib/python3.7/dist-packages (from mat73) (2.10.0)\n",
            "Requirement already satisfied: six in /usr/local/lib/python3.7/dist-packages (from h5py->mat73) (1.15.0)\n"
          ],
          "name": "stdout"
        }
      ]
    },
    {
      "cell_type": "code",
      "metadata": {
        "id": "yJJfrJv6uha-"
      },
      "source": [
        "# Import mat73 and numpy because we need arrays for Matlab to display cells correctly\n",
        "import mat73\n",
        "import numpy as np"
      ],
      "execution_count": 2,
      "outputs": []
    },
    {
      "cell_type": "code",
      "metadata": {
        "colab": {
          "base_uri": "https://localhost:8080/"
        },
        "id": "kh44-n2QqRKP",
        "outputId": "0f9d3822-85c1-4d24-9ce8-db6d2a45fc6e"
      },
      "source": [
        "# Automating naming process\n",
        "subj = input(\"Enter subject ID in the form of CASAXXXX \")\n",
        "run = input (\"Enter run number  \")\n",
        "type_file = input(\"Enter type of file (feedback or incentive) \")"
      ],
      "execution_count": 3,
      "outputs": [
        {
          "output_type": "stream",
          "text": [
            "Enter subject ID in the form of CASAXXXX CASA1002\n",
            "Enter run number  1\n",
            "Enter type of file (feedback or incentive) Incentive\n"
          ],
          "name": "stdout"
        }
      ]
    },
    {
      "cell_type": "code",
      "metadata": {
        "id": "UITP9tTffHmr"
      },
      "source": [
        "# IF FEEDBACK FILE RUN THIS\n",
        "casa_feed_dict = mat73.loadmat('/content/CASA1002_run1_MID_feedback.mat') #loading mat file to see how it looks like...\n",
        "print(casa_feed_dict) #yay we can see it now\n",
        "\n",
        "onsets_feed = mat73.loadmat ('/content/CASA1002_run1_MID_feedback.mat')['onsets'] #get the original onsets\n",
        "durations_feed =  mat73.loadmat ('/content/CASA1002_run1_MID_feedback.mat')['durations'] #get the durations pre-parsing into odd even\n",
        "new_durations_feed = durations_feed * 2 #we'll have 6 cases so we need to double the durations\n",
        "\n",
        "win = onsets_feed[0] #first get the win onsets and parse them into odd even, then pass them as numpy arrays\n",
        "win_odd = win[0::2]\n",
        "win_odd_array = np.array(win_odd, dtype = np.object)\n",
        "win_even = win[1::2]\n",
        "win_even_array = np.array(win_even, dtype = np.object)\n",
        "\n",
        "neut = feedback_type[1] #do the same thing for neutral\n",
        "neut_odd = neut[0::2]\n",
        "neut_odd_array = np.array(neut_odd, dtype = np.object)\n",
        "neut_even = neut[1::2]\n",
        "neut_even_array = np.array(neut_even, dtype = np.object)\n",
        "\n",
        "loss = feedback_type[2] #do the same thing for loss\n",
        "loss_odd = loss[0::2]\n",
        "loss_odd_array = np.array(loss_odd, dtype = np.object)\n",
        "loss_even = loss[1::2]\n",
        "loss_even_array = np.array(loss_even, dtype = np.object)\n",
        "\n",
        "names_feed_new = np.array((\"win_odd (1)\", \"win_even(2)\", \"neut_odd(3)\", \"neut_even(4)\", \"loss_odd(5)\", \"loss_even(6)\"), dtype=np.object) #create cell arrays containing names for new odd even trials"
      ],
      "execution_count": null,
      "outputs": []
    },
    {
      "cell_type": "code",
      "metadata": {
        "id": "wQUbthCl4XgH"
      },
      "source": [
        "# IF FEEDBACK FILE - RUN THIS TO SAVE\n",
        "from scipy.io import savemat\n",
        "feedback_mat = {\"durations\": new_durations_feed, \"names\": names_feed_new, \"onsets\": [np.array([win_odd_array, win_even_array, neut_odd_array,\n",
        "                                                               neut_even_array, loss_even_array, loss_even_array], dtype = np.object)]}\n",
        "savemat(\"/content/drive/MyDrive/MID ODD EVEN/\" + subj+ \"_\" + \"Run\" + \"_\" + run + \"_\"+ type_file + \"_\" + \"oddeven\" + \".mat\", feedback_mat)"
      ],
      "execution_count": 18,
      "outputs": []
    },
    {
      "cell_type": "code",
      "metadata": {
        "id": "PnjBPHf2mb-W"
      },
      "source": [
        "casa_incent_dict = mat73.loadmat(\"/content/CASA1002_run2_MID_incentive.mat\")\n",
        "print(casa_incent_dict)\n",
        "dur = mat73.loadmat ('/content/CASA1002_run2_MID_incentive.mat')['durations']\n",
        "onsets = mat73.loadmat ('/content/CASA1002_run2_MID_incentive.mat')['onsets']\n",
        "\n",
        "incentive_durations_spec= dur[0]\n",
        "incentive_odd = incentive_durations_spec[0::2]\n",
        "incentive_odd_darray = np.array(incentive_odd, dtype = np.object)\n",
        "incentive_even = incentive_durations_spec[1::2]\n",
        "incentive_even_darray = np.array(incentive_even, dtype = np.object)\n",
        "\n",
        "neut_durations_spec = dur[1]\n",
        "neut_odd = neut_durations_spec[0::2]\n",
        "neut_odd_darray = np.array(neut_odd, dtype = np.object)\n",
        "neut_even = neut_durations_spec[1::2]\n",
        "neut_even_darray = np.array(neut_even, dtype = np.object)\n",
        "\n",
        "incentive_ons_spec= onsets [0]\n",
        "incentive_ons_odd = incentive_ons_spec[0::2]\n",
        "incentive_odd_onsarray = np.array(incentive_ons_odd, dtype = np.object)\n",
        "incentive_ons_even = incentive_ons_spec[1::2]\n",
        "incentive_even_onsarray = np.array(incentive_ons_even, dtype = np.object)\n",
        "\n",
        "neut_ons_spec = onsets [1]\n",
        "neut_ons_odd = neut_ons_spec[0::2]\n",
        "neut_odd_ons_array = np.array(neut_ons_odd, dtype = np.object)\n",
        "neut_ons_even = neut_ons_spec[1::2]\n",
        "neut_even_onsdarray = np.array(neut_ons_even, dtype = np.object)\n",
        "\n",
        "names_inc_new = np.array((\"incentive_odd (1)\", \"incentive_even(2)\", \"neut_odd(3)\", \"neut_even(4)\"), dtype=np.object)"
      ],
      "execution_count": null,
      "outputs": []
    },
    {
      "cell_type": "code",
      "metadata": {
        "id": "VftNXhlHyjyo"
      },
      "source": [
        "from scipy.io import savemat\n",
        "incentive_mat = {\"durations\": [np.array([incentive_odd_darray, incentive_even_darray, neut_odd_darray,\n",
        "                                                               neut_even_darray], dtype = np.object)] , \"names\": names_inc_new, \"onsets\": [np.array([incentive_odd_onsarray, incentive_even_onsarray, neut_odd_ons_array,\n",
        "                                                               neut_odd_ons_array], dtype = np.object)]}\n",
        "savemat(\"/content/drive/MyDrive/MID ODD EVEN/\" + subj+ \"_\" + \"Run\" + \"_\" + run + \"_\"+ type_file + \"_\" + \"oddeven\" + \".mat\", incentive_mat)"
      ],
      "execution_count": 13,
      "outputs": []
    }
  ]
}