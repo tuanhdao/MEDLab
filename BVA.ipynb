{
  "nbformat": 4,
  "nbformat_minor": 0,
  "metadata": {
    "colab": {
      "name": "BVA.ipynb",
      "provenance": [],
      "mount_file_id": "12wQLCT99iDd40w0UiWDMAqGLjN5FlC43",
      "authorship_tag": "ABX9TyMYNMPP4R+aMIpj8v1bhn3i",
      "include_colab_link": true
    },
    "kernelspec": {
      "name": "python3",
      "display_name": "Python 3"
    },
    "language_info": {
      "name": "python"
    }
  },
  "cells": [
    {
      "cell_type": "markdown",
      "metadata": {
        "id": "view-in-github",
        "colab_type": "text"
      },
      "source": [
        "<a href=\"https://colab.research.google.com/github/tuanhdao/FYRE/blob/main/BVA.ipynb\" target=\"_parent\"><img src=\"https://colab.research.google.com/assets/colab-badge.svg\" alt=\"Open In Colab\"/></a>"
      ]
    },
    {
      "cell_type": "code",
      "metadata": {
        "id": "oj1BlY4GNFny"
      },
      "source": [
        "# Open file and delete first 5 lines which we don't need to use and save it as a new clean file\n",
        "with open('Acc_segments.txt') as f: #CHANGE THIS TO YOUR FILE'S NAME\n",
        "    lines = f.readlines()\n",
        "    del lines[0:5]\n",
        "new_file = open(\"Acc_Segments_clean.txt\", \"w+\")\n",
        "for line in lines:\n",
        "    clean_file = new_file.write(line)\n",
        "new_file.close()"
      ],
      "execution_count": 122,
      "outputs": []
    },
    {
      "cell_type": "code",
      "metadata": {
        "colab": {
          "base_uri": "https://localhost:8080/"
        },
        "id": "EWkTywBJ2tHa",
        "outputId": "f252f1cd-ca01-441f-8eec-3e55d7d3e7a7"
      },
      "source": [
        "#gets the number of lines\n",
        "file = open(\"Acc_Segments_clean.txt\", \"r\")\n",
        "number_of_lines = 0\n",
        "for line in file:\n",
        "  number_of_lines += 1\n",
        "print(number_of_lines)\n",
        "file.close()"
      ],
      "execution_count": 123,
      "outputs": [
        {
          "output_type": "stream",
          "text": [
            "21572\n"
          ],
          "name": "stdout"
        }
      ]
    },
    {
      "cell_type": "code",
      "metadata": {
        "colab": {
          "base_uri": "https://localhost:8080/",
          "height": 431
        },
        "id": "7uPQhlHuS91G",
        "outputId": "ccd880bc-f2e3-4105-af56-5c5807e56053"
      },
      "source": [
        "#import Pandas and display\n",
        "import pandas as pd\n",
        "from IPython.display import display\n",
        "\n",
        "#Get IDs\n",
        "f = open('Acc_Segments_clean.txt')\n",
        "count = 0  \n",
        "#Okay this is kind of arbitrary, but I located the number of the line of each ID \n",
        "#Then created list with the starting line to the end line with 53 as the step \n",
        "#That is because each person has 53 lines of information\n",
        "entry = range(2, number_of_lines, 53)  \n",
        "list_id = []\n",
        "for line in f:\n",
        "  count += 1\n",
        "  for n in entry:\n",
        "    if count == n: \n",
        "      id = line\n",
        "      id_clean = id.replace(\"\\n\",\"\") #delete trailing white space\n",
        "      list_id.append(id_clean)\n",
        "id_df = pd.DataFrame (list_id,columns=['ID']) #create dataframe\n",
        "\n",
        "#Next, create an input option for the electroders\n",
        "lookup = input(\"Electrode (MUST BE WRITTEN AS IT IS IN THE MACRO): \")\n",
        "number_segments = []\n",
        "number_segments_Cz_FCz = []\n",
        "#Ok now the program will look up the line associated with the chosen electrode\n",
        "for line in lines:\n",
        "  if lookup in line:\n",
        "    value = line.strip()\n",
        "    value_clean = value.replace(\"\\t\",\"\") #these 2 lines clean the data from trailing spaces and new lines\n",
        "    if lookup == \"Cz\" or lookup == \"FCz\": #beware of Cz and FCz because they share the same characters in the name\n",
        "      number_segments_Cz_FCz.append(value_clean) #separate list for Cz FCz values\n",
        "      N=2\n",
        "      sub_Cz_FCz_list = [number_segments_Cz_FCz[n:n+N] for n in range(0, \n",
        "      len(number_segments_Cz_FCz), N)] #this parses the list into smaller lists of 2 elements\n",
        "      values_Cz_FCz = []\n",
        "      for i in sub_Cz_FCz_list:\n",
        "        for k in i:\n",
        "          values_Cz_FCz.append(k[-2:]) #only take the last 2 values of each element in the list\n",
        "      sub_Cz_FCz_list_2 = [values_Cz_FCz[n:n+N] for n in range(0, \n",
        "      len(values_Cz_FCz), N)] #pair the elements again to be in twos\n",
        "      number_segments_df = pd.DataFrame(sub_Cz_FCz_list_2) #create a data frame\n",
        "    else:\n",
        "      number_segments.append(line) #for all other electrodes\n",
        "      number_segments_df = pd.DataFrame (sub_Cz_FCz_list_2, columns = lookup)\n",
        "frame = [id_df, number_segments_df]\n",
        "final_frame= pd.concat(frame, axis = 1) #merge ID and electrode values so that we add new variables, not cases\n",
        "final_df = pd.DataFrame(final_frame)\n",
        "renamed = final_df.copy(deep=True)\n",
        "#rename columns to show which electrode is used\n",
        "if lookup == \"Cz\" or lookup == \"FCz\":\n",
        "  renamed.columns = [\"ID\", \"Cz\", \"FCz\"]\n",
        "else:\n",
        "  renamed.columns = [\"ID\",\"lookup\"]\n",
        "display(renamed) #display the final data frame to check for accuracy\n",
        "#Save to a CSV file\n",
        "renamed.to_csv(\"/content/drive/MyDrive/Acc_Cz_FCz.csv\", index = False)\n"
      ],
      "execution_count": 126,
      "outputs": [
        {
          "output_type": "stream",
          "text": [
            "Electrode: Cz\n"
          ],
          "name": "stdout"
        },
        {
          "output_type": "display_data",
          "data": {
            "text/html": [
              "<div>\n",
              "<style scoped>\n",
              "    .dataframe tbody tr th:only-of-type {\n",
              "        vertical-align: middle;\n",
              "    }\n",
              "\n",
              "    .dataframe tbody tr th {\n",
              "        vertical-align: top;\n",
              "    }\n",
              "\n",
              "    .dataframe thead th {\n",
              "        text-align: right;\n",
              "    }\n",
              "</style>\n",
              "<table border=\"1\" class=\"dataframe\">\n",
              "  <thead>\n",
              "    <tr style=\"text-align: right;\">\n",
              "      <th></th>\n",
              "      <th>ID</th>\n",
              "      <th>Cz</th>\n",
              "      <th>FCz</th>\n",
              "    </tr>\n",
              "  </thead>\n",
              "  <tbody>\n",
              "    <tr>\n",
              "      <th>0</th>\n",
              "      <td>001_ig</td>\n",
              "      <td>24</td>\n",
              "      <td>24</td>\n",
              "    </tr>\n",
              "    <tr>\n",
              "      <th>1</th>\n",
              "      <td>002_ig</td>\n",
              "      <td>20</td>\n",
              "      <td>18</td>\n",
              "    </tr>\n",
              "    <tr>\n",
              "      <th>2</th>\n",
              "      <td>004_ig</td>\n",
              "      <td>25</td>\n",
              "      <td>25</td>\n",
              "    </tr>\n",
              "    <tr>\n",
              "      <th>3</th>\n",
              "      <td>006_ig</td>\n",
              "      <td>17</td>\n",
              "      <td>18</td>\n",
              "    </tr>\n",
              "    <tr>\n",
              "      <th>4</th>\n",
              "      <td>007_ig</td>\n",
              "      <td>24</td>\n",
              "      <td>25</td>\n",
              "    </tr>\n",
              "    <tr>\n",
              "      <th>...</th>\n",
              "      <td>...</td>\n",
              "      <td>...</td>\n",
              "      <td>...</td>\n",
              "    </tr>\n",
              "    <tr>\n",
              "      <th>402</th>\n",
              "      <td>642_ig</td>\n",
              "      <td>25</td>\n",
              "      <td>25</td>\n",
              "    </tr>\n",
              "    <tr>\n",
              "      <th>403</th>\n",
              "      <td>643_ig</td>\n",
              "      <td>26</td>\n",
              "      <td>26</td>\n",
              "    </tr>\n",
              "    <tr>\n",
              "      <th>404</th>\n",
              "      <td>645_ig</td>\n",
              "      <td>21</td>\n",
              "      <td>21</td>\n",
              "    </tr>\n",
              "    <tr>\n",
              "      <th>405</th>\n",
              "      <td>646_ig</td>\n",
              "      <td>25</td>\n",
              "      <td>25</td>\n",
              "    </tr>\n",
              "    <tr>\n",
              "      <th>406</th>\n",
              "      <td>647_ig</td>\n",
              "      <td>26</td>\n",
              "      <td>26</td>\n",
              "    </tr>\n",
              "  </tbody>\n",
              "</table>\n",
              "<p>407 rows × 3 columns</p>\n",
              "</div>"
            ],
            "text/plain": [
              "         ID  Cz FCz\n",
              "0    001_ig  24  24\n",
              "1    002_ig  20  18\n",
              "2    004_ig  25  25\n",
              "3    006_ig  17  18\n",
              "4    007_ig  24  25\n",
              "..      ...  ..  ..\n",
              "402  642_ig  25  25\n",
              "403  643_ig  26  26\n",
              "404  645_ig  21  21\n",
              "405  646_ig  25  25\n",
              "406  647_ig  26  26\n",
              "\n",
              "[407 rows x 3 columns]"
            ]
          },
          "metadata": {
            "tags": []
          }
        }
      ]
    }
  ]
}