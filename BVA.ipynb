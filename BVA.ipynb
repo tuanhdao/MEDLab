{
  "nbformat": 4,
  "nbformat_minor": 0,
  "metadata": {
    "colab": {
      "name": "BVA.ipynb",
      "provenance": [],
      "mount_file_id": "https://github.com/tuanhdao/MEDLab/blob/main/BVA.ipynb",
      "authorship_tag": "ABX9TyOl6pq7+L2jNpfe8Xb+lgqH",
      "include_colab_link": true
    },
    "kernelspec": {
      "name": "python3",
      "display_name": "Python 3"
    },
    "language_info": {
      "name": "python"
    }
  },
  "cells": [
    {
      "cell_type": "markdown",
      "metadata": {
        "id": "view-in-github",
        "colab_type": "text"
      },
      "source": [
        "<a href=\"https://colab.research.google.com/github/tuanhdao/MEDLab/blob/main/BVA.ipynb\" target=\"_parent\"><img src=\"https://colab.research.google.com/assets/colab-badge.svg\" alt=\"Open In Colab\"/></a>"
      ]
    },
    {
      "cell_type": "code",
      "metadata": {
        "id": "oj1BlY4GNFny",
        "outputId": "5d1a5514-7506-405e-e24b-55a4b89448aa",
        "colab": {
          "base_uri": "https://localhost:8080/"
        }
      },
      "source": [
        "# Open file and delete first 5 lines which we don't need to use and save it as a new clean file\n",
        "with open(\"/SRTA_Pos_avg_operationsinfo.txt\") as f: #CHANGE THIS TO YOUR FILE'S NAME\n",
        "    lines = f.readlines()\n",
        "    del lines[0:5]\n",
        "\n",
        "new_file = open(\"/SRTA_Pos_Avg_Segments_clean.txt\", \"w+\") #CHANGE THIS TO YOUR FILE'S NAME\n",
        "for line in lines:\n",
        "    clean_file = new_file.write(line)\n",
        "new_file.close()\n",
        "condition = input(\"Condition? This will be to name the file only. \")"
      ],
      "execution_count": 1,
      "outputs": [
        {
          "name": "stdout",
          "output_type": "stream",
          "text": [
            "Condition? This will be to name the file only. Pos\n"
          ]
        }
      ]
    },
    {
      "cell_type": "code",
      "metadata": {
        "colab": {
          "base_uri": "https://localhost:8080/"
        },
        "id": "EWkTywBJ2tHa",
        "outputId": "4c2b64d6-3050-44a6-e20f-d00d3b25ec7e"
      },
      "source": [
        "#gets the number of lines and case count\n",
        "file = open(\"/SRTA_Pos_Avg_Segments_clean.txt\", \"r\")\n",
        "number_of_lines = 0\n",
        "case_count = 0\n",
        "for line in file:\n",
        "  number_of_lines += 1\n",
        "#NOTE: CHANGE THIS TO YOUR ID FORMAT (i.e., if your ID is FYRE1001, change code to if \"FYRE\" in line)\n",
        "  if \"SRTA\" in line:\n",
        "    case_count += 1\n",
        "length_segment = int(number_of_lines/case_count)\n",
        "print(\"Case count: \", case_count)\n",
        "print(\"Number of lines: \", number_of_lines)\n",
        "print(\"Length of segment: \", length_segment)\n",
        "file.close()"
      ],
      "execution_count": 2,
      "outputs": [
        {
          "output_type": "stream",
          "name": "stdout",
          "text": [
            "Case count:  128\n",
            "Number of lines:  5316\n",
            "Length of segment:  41\n"
          ]
        }
      ]
    },
    {
      "cell_type": "code",
      "metadata": {
        "id": "7uPQhlHuS91G"
      },
      "source": [
        "#import packages\n",
        "import pandas as pd\n",
        "from IPython.display import display\n",
        "import re"
      ],
      "execution_count": 2,
      "outputs": []
    },
    {
      "cell_type": "code",
      "metadata": {
        "id": "ZwS-PF4pS36b"
      },
      "source": [
        "#Get IDs - OLD DO NOT USE\n",
        "#f = open(\"/SRTA_Pos_Avg_Segments_clean.txt\") #rename to your file\n",
        "#count = 0  \n",
        "#entry = range(2, number_of_lines, 44)  \n",
        "#list_id = []\n",
        "#for line in f:\n",
        "#  count += 1\n",
        "#  for n in entry:\n",
        "#    if count == n: \n",
        "#      id = line\n",
        "#      id_clean = id.replace(\"\\n\",\"\") #delete trailing white space\n",
        "#      list_id.append(id_clean)\n",
        "#id_df = pd.DataFrame (list_id,columns=['ID']) #create dataframe"
      ],
      "execution_count": 14,
      "outputs": []
    },
    {
      "cell_type": "code",
      "source": [
        "list_id = []\n",
        "for line in lines:\n",
        "  if \"SRTA\" in line:\n",
        "    id = line \n",
        "    id_clean = id.replace(\"\\n\",\"\")\n",
        "    list_id.append(id_clean)\n",
        "print (list_id)\n",
        "id_df = pd.DataFrame (list_id,columns=['ID']) #create dataframe"
      ],
      "metadata": {
        "colab": {
          "base_uri": "https://localhost:8080/"
        },
        "id": "zVeMtwEPnK-8",
        "outputId": "62ad0487-2966-4c20-9d88-0263962c3ca9"
      },
      "execution_count": 9,
      "outputs": [
        {
          "output_type": "stream",
          "name": "stdout",
          "text": [
            "['SRTA1009', 'SRTA1010', 'SRTA1014', 'SRTA1017', 'SRTA1018', 'SRTA1021', 'SRTA1022', 'SRTA1023a', 'SRTA1026', 'SRTA1029', 'SRTA1031', 'SRTA1032', 'SRTA1033', 'SRTA1034', 'SRTA1036', 'SRTA1038', 'SRTA1040', 'SRTA1042', 'SRTA1043', 'SRTA1049', 'SRTA1050', 'SRTA1051', 'SRTA1053', 'SRTA1057', 'SRTA1058', 'SRTA1059', 'SRTA1062', 'SRTA1064', 'SRTA1065', 'SRTA1068', 'SRTA1070', 'SRTA1071', 'SRTA1074', 'SRTA1075', 'SRTA1080', 'SRTA1081', 'SRTA1087', 'SRTA1089', 'SRTA1090', 'SRTA1095', 'SRTA1097', 'SRTA1102', 'SRTA1108', 'SRTA1110', 'SRTA1111', 'SRTA1112', 'SRTA1113', 'SRTA1114', 'SRTA1115', 'SRTA1119', 'SRTA1120', 'SRTA1121', 'SRTA1123', 'SRTA1124', 'SRTA1126', 'SRTA1128', 'SRTA1130', 'SRTA1131', 'SRTA1132', 'SRTA1133', 'SRTA1134', 'SRTA1135', 'SRTA1136', 'SRTA1138', 'SRTA1139', 'SRTA1140', 'SRTA1141', 'SRTA1142', 'SRTA1144', 'SRTA1145', 'SRTA1146', 'SRTA1147', 'SRTA1148', 'SRTA1149', 'SRTA1152', 'SRTA1153', 'SRTA1154', 'SRTA1156', 'SRTA1158', 'SRTA1159', 'SRTA1160', 'SRTA1162', 'SRTA1164', 'SRTA1165', 'SRTA1166', 'SRTA1167', 'SRTA1169', 'SRTA1170', 'SRTA1172', 'SRTA1174', 'SRTA1177', 'SRTA1179', 'SRTA1180', 'SRTA1182', 'SRTA1183', 'SRTA1184', 'SRTA1185', 'SRTA1186', 'SRTA1187', 'SRTA1188', 'SRTA1191', 'SRTA1192', 'SRTA1193', 'SRTA1194', 'SRTA1197', 'SRTA1198', 'SRTA1199', 'SRTA1201', 'SRTA1204+', 'SRTA1205', 'SRTA1206', 'SRTA1207', 'SRTA1209', 'SRTA1210', 'SRTA1212', 'SRTA1214', 'SRTA1216', 'SRTA1219', 'SRTA1221', 'SRTA1222', 'SRTA1227', 'SRTA1229', 'SRTA1231', 'SRTA1233', 'SRTA1234', 'SRTA1235', 'SRTA1237', 'SRTA1238']\n"
          ]
        }
      ]
    },
    {
      "cell_type": "code",
      "metadata": {
        "id": "WytzV5DpT3VH",
        "colab": {
          "base_uri": "https://localhost:8080/",
          "height": 441
        },
        "outputId": "cc90fc4d-eeff-486a-c258-3bd362e5aec8"
      },
      "source": [
        "lookup = input(\"Electrode (MUST BE WRITTEN AS IT IS IN THE MACRO): \")\n",
        "number_segments_all_other = []\n",
        "number_segments_Cz_FCz = []\n",
        "#Ok now the program will look up the line associated with the chosen electrode\n",
        "for line in lines:\n",
        "  if lookup in line:\n",
        "    value = line.strip()\n",
        "    if lookup == \"Cz\" or lookup == \"FCz\": #beware of Cz and FCz because they share the same characters in the name\n",
        "      number_segments_Cz_FCz.append(value) #separate list for Cz FCz values\n",
        "      N=2\n",
        "      sub_Cz_FCz_list = [number_segments_Cz_FCz[n:n+N] for n in range(0, \n",
        "      len(number_segments_Cz_FCz), N)] #this parses the list into smaller lists of 2 elements\n",
        "      values_Cz_FCz = []\n",
        "      for i in sub_Cz_FCz_list:\n",
        "        for k in i:\n",
        "          split_Cz_FCz = re.split(r'\\t+', k)\n",
        "          values_Cz_FCz.append(split_Cz_FCz[-1:])\n",
        "          flat_list_Cz_FCz = []\n",
        "          for sublist in values_Cz_FCz:\n",
        "            for item in sublist:\n",
        "              flat_list_Cz_FCz.append(item)\n",
        "      sub_Cz_FCz_list_2 = [flat_list_Cz_FCz[n:n+N] for n in range(0, \n",
        "      len(values_Cz_FCz), N)] #pair the elements again to be in twos\n",
        "      number_segments_df = pd.DataFrame(sub_Cz_FCz_list_2) #create a data frame\n",
        "      frame = [id_df, number_segments_df]\n",
        "    else:\n",
        "      number_segments_all_other.append(value)\n",
        "      values_all_other = []  #for all other electrodes\n",
        "      for i in number_segments_all_other:\n",
        "        split_other = re.split(r'\\t+', i)\n",
        "        values_all_other.append(split_other[-1:])\n",
        "        flat_list_other = []\n",
        "        for sublist in values_all_other: \n",
        "          for item in sublist:\n",
        "            flat_list_other.append(item)\n",
        "      number_segments_df = pd.DataFrame(flat_list_other)\n",
        "\n",
        "#Create a list of IDs and segments\n",
        "concatenate = [id_df, number_segments_df]\n",
        "\n",
        "#merge ID and electrode values so that we add new variables, not cases\n",
        "frame= pd.concat(concatenate, axis = 1) \n",
        "df = pd.DataFrame(frame)\n",
        "final_renamed_df = df.copy(deep=True)\n",
        "\n",
        "#rename columns to show which electrode is used\n",
        "if lookup == \"Cz\" or lookup == \"FCz\":\n",
        "  final_renamed_df.columns = [\"ID\", \"Cz\", \"FCz\"]\n",
        "else:\n",
        "  final_renamed_df.columns = [\"ID\", lookup]\n",
        "\n",
        "#display the final data frame to check for accuracy)\n",
        "display(final_renamed_df)\n",
        "\n",
        "#Save to a CSV file -- CHANGE THIS\n",
        "final_renamed_df.to_csv(\"/content/drive/MyDrive/ITT\" + \"{}{}{}.csv\".format(condition, \"_\", lookup), index = False)"
      ],
      "execution_count": 13,
      "outputs": [
        {
          "name": "stdout",
          "output_type": "stream",
          "text": [
            "Electrode (MUST BE WRITTEN AS IT IS IN THE MACRO): Oz\n"
          ]
        },
        {
          "output_type": "display_data",
          "data": {
            "text/plain": [
              "           ID  Oz\n",
              "0    SRTA1009  29\n",
              "1    SRTA1010  25\n",
              "2    SRTA1014  30\n",
              "3    SRTA1017  29\n",
              "4    SRTA1018  28\n",
              "..        ...  ..\n",
              "123  SRTA1233  30\n",
              "124  SRTA1234  26\n",
              "125  SRTA1235  30\n",
              "126  SRTA1237  29\n",
              "127  SRTA1238  28\n",
              "\n",
              "[128 rows x 2 columns]"
            ],
            "text/html": [
              "\n",
              "  <div id=\"df-0d31cf99-960e-4e0f-831f-778a14039a11\">\n",
              "    <div class=\"colab-df-container\">\n",
              "      <div>\n",
              "<style scoped>\n",
              "    .dataframe tbody tr th:only-of-type {\n",
              "        vertical-align: middle;\n",
              "    }\n",
              "\n",
              "    .dataframe tbody tr th {\n",
              "        vertical-align: top;\n",
              "    }\n",
              "\n",
              "    .dataframe thead th {\n",
              "        text-align: right;\n",
              "    }\n",
              "</style>\n",
              "<table border=\"1\" class=\"dataframe\">\n",
              "  <thead>\n",
              "    <tr style=\"text-align: right;\">\n",
              "      <th></th>\n",
              "      <th>ID</th>\n",
              "      <th>Oz</th>\n",
              "    </tr>\n",
              "  </thead>\n",
              "  <tbody>\n",
              "    <tr>\n",
              "      <th>0</th>\n",
              "      <td>SRTA1009</td>\n",
              "      <td>29</td>\n",
              "    </tr>\n",
              "    <tr>\n",
              "      <th>1</th>\n",
              "      <td>SRTA1010</td>\n",
              "      <td>25</td>\n",
              "    </tr>\n",
              "    <tr>\n",
              "      <th>2</th>\n",
              "      <td>SRTA1014</td>\n",
              "      <td>30</td>\n",
              "    </tr>\n",
              "    <tr>\n",
              "      <th>3</th>\n",
              "      <td>SRTA1017</td>\n",
              "      <td>29</td>\n",
              "    </tr>\n",
              "    <tr>\n",
              "      <th>4</th>\n",
              "      <td>SRTA1018</td>\n",
              "      <td>28</td>\n",
              "    </tr>\n",
              "    <tr>\n",
              "      <th>...</th>\n",
              "      <td>...</td>\n",
              "      <td>...</td>\n",
              "    </tr>\n",
              "    <tr>\n",
              "      <th>123</th>\n",
              "      <td>SRTA1233</td>\n",
              "      <td>30</td>\n",
              "    </tr>\n",
              "    <tr>\n",
              "      <th>124</th>\n",
              "      <td>SRTA1234</td>\n",
              "      <td>26</td>\n",
              "    </tr>\n",
              "    <tr>\n",
              "      <th>125</th>\n",
              "      <td>SRTA1235</td>\n",
              "      <td>30</td>\n",
              "    </tr>\n",
              "    <tr>\n",
              "      <th>126</th>\n",
              "      <td>SRTA1237</td>\n",
              "      <td>29</td>\n",
              "    </tr>\n",
              "    <tr>\n",
              "      <th>127</th>\n",
              "      <td>SRTA1238</td>\n",
              "      <td>28</td>\n",
              "    </tr>\n",
              "  </tbody>\n",
              "</table>\n",
              "<p>128 rows × 2 columns</p>\n",
              "</div>\n",
              "      <button class=\"colab-df-convert\" onclick=\"convertToInteractive('df-0d31cf99-960e-4e0f-831f-778a14039a11')\"\n",
              "              title=\"Convert this dataframe to an interactive table.\"\n",
              "              style=\"display:none;\">\n",
              "        \n",
              "  <svg xmlns=\"http://www.w3.org/2000/svg\" height=\"24px\"viewBox=\"0 0 24 24\"\n",
              "       width=\"24px\">\n",
              "    <path d=\"M0 0h24v24H0V0z\" fill=\"none\"/>\n",
              "    <path d=\"M18.56 5.44l.94 2.06.94-2.06 2.06-.94-2.06-.94-.94-2.06-.94 2.06-2.06.94zm-11 1L8.5 8.5l.94-2.06 2.06-.94-2.06-.94L8.5 2.5l-.94 2.06-2.06.94zm10 10l.94 2.06.94-2.06 2.06-.94-2.06-.94-.94-2.06-.94 2.06-2.06.94z\"/><path d=\"M17.41 7.96l-1.37-1.37c-.4-.4-.92-.59-1.43-.59-.52 0-1.04.2-1.43.59L10.3 9.45l-7.72 7.72c-.78.78-.78 2.05 0 2.83L4 21.41c.39.39.9.59 1.41.59.51 0 1.02-.2 1.41-.59l7.78-7.78 2.81-2.81c.8-.78.8-2.07 0-2.86zM5.41 20L4 18.59l7.72-7.72 1.47 1.35L5.41 20z\"/>\n",
              "  </svg>\n",
              "      </button>\n",
              "      \n",
              "  <style>\n",
              "    .colab-df-container {\n",
              "      display:flex;\n",
              "      flex-wrap:wrap;\n",
              "      gap: 12px;\n",
              "    }\n",
              "\n",
              "    .colab-df-convert {\n",
              "      background-color: #E8F0FE;\n",
              "      border: none;\n",
              "      border-radius: 50%;\n",
              "      cursor: pointer;\n",
              "      display: none;\n",
              "      fill: #1967D2;\n",
              "      height: 32px;\n",
              "      padding: 0 0 0 0;\n",
              "      width: 32px;\n",
              "    }\n",
              "\n",
              "    .colab-df-convert:hover {\n",
              "      background-color: #E2EBFA;\n",
              "      box-shadow: 0px 1px 2px rgba(60, 64, 67, 0.3), 0px 1px 3px 1px rgba(60, 64, 67, 0.15);\n",
              "      fill: #174EA6;\n",
              "    }\n",
              "\n",
              "    [theme=dark] .colab-df-convert {\n",
              "      background-color: #3B4455;\n",
              "      fill: #D2E3FC;\n",
              "    }\n",
              "\n",
              "    [theme=dark] .colab-df-convert:hover {\n",
              "      background-color: #434B5C;\n",
              "      box-shadow: 0px 1px 3px 1px rgba(0, 0, 0, 0.15);\n",
              "      filter: drop-shadow(0px 1px 2px rgba(0, 0, 0, 0.3));\n",
              "      fill: #FFFFFF;\n",
              "    }\n",
              "  </style>\n",
              "\n",
              "      <script>\n",
              "        const buttonEl =\n",
              "          document.querySelector('#df-0d31cf99-960e-4e0f-831f-778a14039a11 button.colab-df-convert');\n",
              "        buttonEl.style.display =\n",
              "          google.colab.kernel.accessAllowed ? 'block' : 'none';\n",
              "\n",
              "        async function convertToInteractive(key) {\n",
              "          const element = document.querySelector('#df-0d31cf99-960e-4e0f-831f-778a14039a11');\n",
              "          const dataTable =\n",
              "            await google.colab.kernel.invokeFunction('convertToInteractive',\n",
              "                                                     [key], {});\n",
              "          if (!dataTable) return;\n",
              "\n",
              "          const docLinkHtml = 'Like what you see? Visit the ' +\n",
              "            '<a target=\"_blank\" href=https://colab.research.google.com/notebooks/data_table.ipynb>data table notebook</a>'\n",
              "            + ' to learn more about interactive tables.';\n",
              "          element.innerHTML = '';\n",
              "          dataTable['output_type'] = 'display_data';\n",
              "          await google.colab.output.renderOutput(dataTable, element);\n",
              "          const docLink = document.createElement('div');\n",
              "          docLink.innerHTML = docLinkHtml;\n",
              "          element.appendChild(docLink);\n",
              "        }\n",
              "      </script>\n",
              "    </div>\n",
              "  </div>\n",
              "  "
            ]
          },
          "metadata": {}
        }
      ]
    }
  ]
}