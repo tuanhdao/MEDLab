{
  "nbformat": 4,
  "nbformat_minor": 0,
  "metadata": {
    "colab": {
      "name": "BVA.ipynb",
      "provenance": [],
      "mount_file_id": "12wQLCT99iDd40w0UiWDMAqGLjN5FlC43",
      "authorship_tag": "ABX9TyMkvtXYh3f/hBB8O91M5Rm6",
      "include_colab_link": true
    },
    "kernelspec": {
      "name": "python3",
      "display_name": "Python 3"
    },
    "language_info": {
      "name": "python"
    }
  },
  "cells": [
    {
      "cell_type": "markdown",
      "metadata": {
        "id": "view-in-github",
        "colab_type": "text"
      },
      "source": [
        "<a href=\"https://colab.research.google.com/github/tuanhdao/FYRE/blob/main/BVA.ipynb\" target=\"_parent\"><img src=\"https://colab.research.google.com/assets/colab-badge.svg\" alt=\"Open In Colab\"/></a>"
      ]
    },
    {
      "cell_type": "code",
      "metadata": {
        "id": "oj1BlY4GNFny",
        "colab": {
          "base_uri": "https://localhost:8080/"
        },
        "outputId": "36a56f5d-d388-4477-d514-cb10afe5d2c9"
      },
      "source": [
        "# Open file and delete first 5 lines which we don't need to use and save it as a new clean file\n",
        "with open('Acc_segments.txt') as f: #CHANGE THIS TO YOUR FILE'S NAME\n",
        "    lines = f.readlines()\n",
        "    del lines[0:5]\n",
        "new_file = open(\"Acc_Segments_clean.txt\", \"w+\")\n",
        "for line in lines:\n",
        "    clean_file = new_file.write(line)\n",
        "new_file.close()\n",
        "condition = input(\"Acc or Rej? This will be to name the file only. \")"
      ],
      "execution_count": 12,
      "outputs": [
        {
          "output_type": "stream",
          "text": [
            "Acc or Rej?Acc\n"
          ],
          "name": "stdout"
        }
      ]
    },
    {
      "cell_type": "code",
      "metadata": {
        "colab": {
          "base_uri": "https://localhost:8080/"
        },
        "id": "EWkTywBJ2tHa",
        "outputId": "8ee93f38-3e4f-4236-d66f-444df28150b3"
      },
      "source": [
        "#gets the number of lines\n",
        "file = open(\"Acc_Segments_clean.txt\", \"r\")\n",
        "number_of_lines = 0\n",
        "for line in file:\n",
        "  number_of_lines += 1\n",
        "print(number_of_lines)\n",
        "file.close()"
      ],
      "execution_count": 13,
      "outputs": [
        {
          "output_type": "stream",
          "text": [
            "21572\n"
          ],
          "name": "stdout"
        }
      ]
    },
    {
      "cell_type": "code",
      "metadata": {
        "id": "7uPQhlHuS91G"
      },
      "source": [
        "#import Pandas and display\n",
        "import pandas as pd\n",
        "from IPython.display import display\n",
        "\n",
        "#Define a function to create sublists out of elements\n",
        "def extract(lst):\n",
        "    return [[e[-2:]] for e in lst]\n",
        "\n",
        "#Get IDs\n",
        "f = open('Acc_Segments_clean.txt')\n",
        "count = 0  \n",
        "#Okay this is kind of arbitrary, but I located the number of the line of each ID \n",
        "#Then created list with the starting line to the end line with 53 as the step \n",
        "#That is because each person has 53 lines of information\n",
        "entry = range(2, number_of_lines, 53)  \n",
        "list_id = []\n",
        "for line in f:\n",
        "  count += 1\n",
        "  for n in entry:\n",
        "    if count == n: \n",
        "      id = line\n",
        "      id_clean = id.replace(\"\\n\",\"\") #delete trailing white space\n",
        "      list_id.append(id_clean)\n",
        "id_df = pd.DataFrame (list_id,columns=['ID']) #create dataframe\n",
        "\n",
        "#Next, create an input option for the electroders\n",
        "lookup = input(\"Electrode (MUST BE WRITTEN AS IT IS IN THE MACRO): \")\n",
        "number_segments = []\n",
        "number_segments_all_other = []\n",
        "number_segments_Cz_FCz = []\n",
        "#Ok now the program will look up the line associated with the chosen electrode\n",
        "for line in lines:\n",
        "  if lookup in line:\n",
        "    value = line.strip()\n",
        "    value_clean = value.replace(\"\\t\",\"\") #these 2 lines clean the data from trailing spaces and new lines\n",
        "    if lookup == \"Cz\" or lookup == \"FCz\": #beware of Cz and FCz because they share the same characters in the name\n",
        "      number_segments_Cz_FCz.append(value_clean) #separate list for Cz FCz values\n",
        "      N=2\n",
        "      sub_Cz_FCz_list = [number_segments_Cz_FCz[n:n+N] for n in range(0, \n",
        "      len(number_segments_Cz_FCz), N)] #this parses the list into smaller lists of 2 elements\n",
        "      values_Cz_FCz = []\n",
        "      for i in sub_Cz_FCz_list:\n",
        "        for k in i:\n",
        "          values_Cz_FCz.append(k[-2:]) #only take the last 2 values of each element in the list\n",
        "      sub_Cz_FCz_list_2 = [values_Cz_FCz[n:n+N] for n in range(0, \n",
        "      len(values_Cz_FCz), N)] #pair the elements again to be in twos\n",
        "      number_segments_df = pd.DataFrame(sub_Cz_FCz_list_2) #create a data frame\n",
        "      frame = [id_df, number_segments_df]\n",
        "    else:\n",
        "      number_segments_all_other.append(value)  #for all other electrodes\n",
        "      sub_other = extract(number_segments_all_other)\n",
        "      number_segments_df = pd.DataFrame (sub_other)\n",
        "\n",
        "#Create a list of IDs and segments\n",
        "concatenate = [id_df, number_segments_df]\n",
        "#merge ID and electrode values so that we add new variables, not cases\n",
        "frame= pd.concat(concatenate, axis = 1) \n",
        "df = pd.DataFrame(frame)\n",
        "final_renamed_df = df.copy(deep=True)\n",
        "\n",
        "#rename columns to show which electrode is used\n",
        "if lookup == \"Cz\" or lookup == \"FCz\":\n",
        "  final_renamed_df.columns = [\"ID\", \"Cz\", \"FCz\"]\n",
        "else:\n",
        "  final_renamed_df.columns = [\"ID\", lookup]\n",
        "\n",
        "#display the final data frame to check for accuracy)\n",
        "display(final_renamed_df)\n",
        "\n",
        "#Save to a CSV file\n",
        "final_renamed_df.to_csv(\"/content/drive/MyDrive/\" + \"{}{}{}.csv\".format(condition, \"_\", lookup), index = False)\n"
      ],
      "execution_count": null,
      "outputs": []
    }
  ]
}