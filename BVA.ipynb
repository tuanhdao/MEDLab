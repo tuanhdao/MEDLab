{
  "nbformat": 4,
  "nbformat_minor": 0,
  "metadata": {
    "colab": {
      "name": "BVA.ipynb",
      "provenance": [],
      "collapsed_sections": [],
      "mount_file_id": "12wQLCT99iDd40w0UiWDMAqGLjN5FlC43",
      "authorship_tag": "ABX9TyOvIYGaOYcqXmsR/gsAwc0+",
      "include_colab_link": true
    },
    "kernelspec": {
      "name": "python3",
      "display_name": "Python 3"
    },
    "language_info": {
      "name": "python"
    }
  },
  "cells": [
    {
      "cell_type": "markdown",
      "metadata": {
        "id": "view-in-github",
        "colab_type": "text"
      },
      "source": [
        "<a href=\"https://colab.research.google.com/github/tuanhdao/MEDLab/blob/main/BVA.ipynb\" target=\"_parent\"><img src=\"https://colab.research.google.com/assets/colab-badge.svg\" alt=\"Open In Colab\"/></a>"
      ]
    },
    {
      "cell_type": "code",
      "metadata": {
        "id": "oj1BlY4GNFny",
        "outputId": "dd80b636-1bd0-49d1-9ca1-26f4b5afe9ec",
        "colab": {
          "base_uri": "https://localhost:8080/"
        }
      },
      "source": [
        "# Open file and delete first 5 lines which we don't need to use and save it as a new clean file\n",
        "with open('Acc_segments.txt') as f: #CHANGE THIS TO YOUR FILE'S NAME\n",
        "    lines = f.readlines()\n",
        "    del lines[0:5]\n",
        "new_file = open(\"Acc_Segments_clean.txt\", \"w+\") #CHANGE THIS TO YOUR FILE'S NAME\n",
        "for line in lines:\n",
        "    clean_file = new_file.write(line)\n",
        "new_file.close()\n",
        "condition = input(\"Condition? This will be to name the file only. \")"
      ],
      "execution_count": null,
      "outputs": [
        {
          "name": "stdout",
          "output_type": "stream",
          "text": [
            "Condition? This will be to name the file only. Accept\n"
          ]
        }
      ]
    },
    {
      "cell_type": "code",
      "metadata": {
        "colab": {
          "base_uri": "https://localhost:8080/"
        },
        "id": "EWkTywBJ2tHa",
        "outputId": "17f7826d-567c-42a2-d35b-0ee7cbdcfefe"
      },
      "source": [
        "#gets the number of lines and case count\n",
        "file = open(\"Acc_Segments_clean.txt\", \"r\")\n",
        "number_of_lines = 0\n",
        "case_count = 0\n",
        "for line in file:\n",
        "  number_of_lines += 1\n",
        "#NOTE: CHANGE THIS TO YOUR ID FORMAT (i.e., if your ID is FYRE1001, change code to if \"FYRE\" in line)\n",
        "  if \"ig\" in line:\n",
        "    case_count += 1\n",
        "length_segment = int(number_of_lines/case_count)\n",
        "print(\"Case count: \", case_count)\n",
        "print(\"Number of lines: \", number_of_lines)\n",
        "print(\"Length of segment: \", length_segment)\n",
        "file.close()"
      ],
      "execution_count": null,
      "outputs": [
        {
          "output_type": "stream",
          "name": "stdout",
          "text": [
            "Case count:  407\n",
            "Number of lines:  21572\n",
            "Length of segment:  53\n"
          ]
        }
      ]
    },
    {
      "cell_type": "code",
      "metadata": {
        "id": "7uPQhlHuS91G"
      },
      "source": [
        "#import packages\n",
        "import pandas as pd\n",
        "from IPython.display import display\n",
        "import re"
      ],
      "execution_count": null,
      "outputs": []
    },
    {
      "cell_type": "code",
      "metadata": {
        "id": "ZwS-PF4pS36b"
      },
      "source": [
        "#Get IDs\n",
        "f = open('Acc_Segments_clean.txt') #rename to your file\n",
        "count = 0  \n",
        "entry = range(2, number_of_lines, length_segment)  \n",
        "list_id = []\n",
        "for line in f:\n",
        "  count += 1\n",
        "  for n in entry:\n",
        "    if count == n: \n",
        "      id = line\n",
        "      id_clean = id.replace(\"\\n\",\"\") #delete trailing white space\n",
        "      list_id.append(id_clean)\n",
        "id_df = pd.DataFrame (list_id,columns=['ID']) #create dataframe"
      ],
      "execution_count": null,
      "outputs": []
    },
    {
      "cell_type": "code",
      "metadata": {
        "id": "WytzV5DpT3VH"
      },
      "source": [
        "lookup = input(\"Electrode (MUST BE WRITTEN AS IT IS IN THE MACRO): \")\n",
        "number_segments_all_other = []\n",
        "number_segments_Cz_FCz = []\n",
        "#Ok now the program will look up the line associated with the chosen electrode\n",
        "for line in lines:\n",
        "  if lookup in line:\n",
        "    value = line.strip()\n",
        "    if lookup == \"Cz\" or lookup == \"FCz\": #beware of Cz and FCz because they share the same characters in the name\n",
        "      number_segments_Cz_FCz.append(value) #separate list for Cz FCz values\n",
        "      N=2\n",
        "      sub_Cz_FCz_list = [number_segments_Cz_FCz[n:n+N] for n in range(0, \n",
        "      len(number_segments_Cz_FCz), N)] #this parses the list into smaller lists of 2 elements\n",
        "      values_Cz_FCz = []\n",
        "      for i in sub_Cz_FCz_list:\n",
        "        for k in i:\n",
        "          split_Cz_FCz = re.split(r'\\t+', k)\n",
        "          values_Cz_FCz.append(split_Cz_FCz[-1:])\n",
        "          flat_list_Cz_FCz = []\n",
        "          for sublist in values_Cz_FCz:\n",
        "            for item in sublist:\n",
        "              flat_list_Cz_FCz.append(item)\n",
        "      sub_Cz_FCz_list_2 = [flat_list_Cz_FCz[n:n+N] for n in range(0, \n",
        "      len(values_Cz_FCz), N)] #pair the elements again to be in twos\n",
        "      number_segments_df = pd.DataFrame(sub_Cz_FCz_list_2) #create a data frame\n",
        "      frame = [id_df, number_segments_df]\n",
        "    else:\n",
        "      number_segments_all_other.append(value)\n",
        "      values_all_other = []  #for all other electrodes\n",
        "      for i in number_segments_all_other:\n",
        "        split_other = re.split(r'\\t+', i)\n",
        "        values_all_other.append(split_other[-1:])\n",
        "        flat_list_other = []\n",
        "        for sublist in values_all_other: \n",
        "          for item in sublist:\n",
        "            flat_list_other.append(item)\n",
        "      number_segments_df = pd.DataFrame(flat_list_other)\n",
        "\n",
        "#Create a list of IDs and segments\n",
        "concatenate = [id_df, number_segments_df]\n",
        "\n",
        "#merge ID and electrode values so that we add new variables, not cases\n",
        "frame= pd.concat(concatenate, axis = 1) \n",
        "df = pd.DataFrame(frame)\n",
        "final_renamed_df = df.copy(deep=True)\n",
        "\n",
        "#rename columns to show which electrode is used\n",
        "if lookup == \"Cz\" or lookup == \"FCz\":\n",
        "  final_renamed_df.columns = [\"ID\", \"Cz\", \"FCz\"]\n",
        "else:\n",
        "  final_renamed_df.columns = [\"ID\", lookup]\n",
        "\n",
        "#display the final data frame to check for accuracy)\n",
        "display(final_renamed_df)\n",
        "\n",
        "#Save to a CSV file -- CHANGE THIS\n",
        "final_renamed_df.to_csv(\"/content/drive/MyDrive/\" + \"{}{}{}.csv\".format(condition, \"_\", lookup), index = False)"
      ],
      "execution_count": null,
      "outputs": []
    }
  ]
}