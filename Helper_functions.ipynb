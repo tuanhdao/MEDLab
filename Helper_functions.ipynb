{
  "nbformat": 4,
  "nbformat_minor": 0,
  "metadata": {
    "colab": {
      "name": "Helper functions.ipynb",
      "provenance": [],
      "authorship_tag": "ABX9TyNuHnj6THfN5qE2rVKTX9Pe",
      "include_colab_link": true
    },
    "kernelspec": {
      "name": "python3",
      "display_name": "Python 3"
    },
    "language_info": {
      "name": "python"
    }
  },
  "cells": [
    {
      "cell_type": "markdown",
      "metadata": {
        "id": "view-in-github",
        "colab_type": "text"
      },
      "source": [
        "<a href=\"https://colab.research.google.com/github/tuanhdao/MEDLab/blob/main/Helper_functions.ipynb\" target=\"_parent\"><img src=\"https://colab.research.google.com/assets/colab-badge.svg\" alt=\"Open In Colab\"/></a>"
      ]
    },
    {
      "cell_type": "code",
      "execution_count": 35,
      "metadata": {
        "colab": {
          "base_uri": "https://localhost:8080/"
        },
        "id": "f-SD0rVK3ou5",
        "outputId": "0d867937-1a09-46df-daa3-d9ff55c447eb"
      },
      "outputs": [
        {
          "output_type": "stream",
          "name": "stdout",
          "text": [
            "sppa_statement1_teen_intake\n",
            "sppa_statement2_teen_intake\n",
            "sppa_statement3_teen_intake\n",
            "sppa_statement4_teen_intake\n",
            "sppa_statement5_teen_intake\n",
            "sppa_statement6_teen_intake\n",
            "sppa_statement7_teen_intake\n",
            "sppa_statement8_teen_intake\n",
            "sppa_statement9_teen_intake\n",
            "sppa_statement10_teen_intake\n",
            "sppa_statement11_teen_intake\n",
            "sppa_statement12_teen_intake\n",
            "sppa_statement13_teen_intake\n",
            "sppa_statement14_teen_intake\n",
            "sppa_statement15_teen_intake\n",
            "sppa_statement16_teen_intake\n",
            "sppa_statement17_teen_intake\n",
            "sppa_statement18_teen_intake\n",
            "sppa_statement19_teen_intake\n",
            "sppa_statement20_teen_intake\n",
            "sppa_statement21_teen_intake\n",
            "sppa_statement22_teen_intake\n",
            "sppa_statement23_teen_intake\n",
            "sppa_statement24_teen_intake\n",
            "sppa_statement25_teen_intake\n",
            "sppa_statement26_teen_intake\n",
            "sppa_statement27_teen_intake\n",
            "sppa_statement28_teen_intake\n",
            "sppa_statement29_teen_intake\n",
            "sppa_statement30_teen_intake\n",
            "sppa_statement31_teen_intake\n",
            "sppa_statement32_teen_intake\n",
            "sppa_statement33_teen_intake\n",
            "sppa_statement34_teen_intake\n",
            "sppa_statement35_teen_intake\n",
            "sppa_statement36_teen_intake\n",
            "sppa_statement37_teen_intake\n",
            "sppa_statement38_teen_intake\n",
            "sppa_statement39_teen_intake\n",
            "sppa_statement40_teen_intake\n",
            "sppa_statement41_teen_intake\n",
            "sppa_statement42_teen_intake\n",
            "sppa_statement43_teen_intake\n",
            "sppa_statement44_teen_intake\n",
            "sppa_statement45_teen_intake\n"
          ]
        }
      ],
      "source": [
        "i = 0\n",
        "for i in range(1,46):\n",
        " statement1 = (f\"DO IF sppa_statement{i}a>0.\\nCOMPUTE sppa_statement{i}_teen_intake=sppa_statement{i}a.\\nEND IF.\\nDO IF (sppa_statement{i}b>0).\\nCOMPUTE sppa_statement{i}_teen_intake = sppa_statement{i}b.\\nEND IF.\")\n",
        " #print(statement1)\n",
        " #print()\n",
        "x = 0\n",
        "for x in range (1, 46):\n",
        "  st = (f\"sppa_statement{x}_teen_intake\")\n",
        "  print (st)\n",
        "\n"
      ]
    }
  ]
}