{
  "nbformat": 4,
  "nbformat_minor": 0,
  "metadata": {
    "colab": {
      "name": "Helper functions.ipynb",
      "provenance": [],
      "authorship_tag": "ABX9TyNWDId7XYhe35TOyz1y3TWw",
      "include_colab_link": true
    },
    "kernelspec": {
      "name": "python3",
      "display_name": "Python 3"
    },
    "language_info": {
      "name": "python"
    }
  },
  "cells": [
    {
      "cell_type": "markdown",
      "metadata": {
        "id": "view-in-github",
        "colab_type": "text"
      },
      "source": [
        "<a href=\"https://colab.research.google.com/github/tuanhdao/MEDLab/blob/main/Helper_functions.ipynb\" target=\"_parent\"><img src=\"https://colab.research.google.com/assets/colab-badge.svg\" alt=\"Open In Colab\"/></a>"
      ]
    },
    {
      "cell_type": "code",
      "execution_count": null,
      "metadata": {
        "id": "f-SD0rVK3ou5"
      },
      "outputs": [],
      "source": [
        "i = 0\n",
        "for i in range(1, 46):\n",
        " statement1 = (f\"DO IF sppa_statement{i}a>0.\\nCOMPUTE sppa_statement{i}_teen_intake=sppa_statement{i}a.\\nEND IF.\\nDO IF (sppa_statement{i}b>0).\\nCOMPUTE sppa_statement{i}_teen_intake = sppa_statement{i}b.\\nEND IF.\")\n",
        " print(statement1)\n",
        " print()\n",
        "x = 0\n",
        "for x in range (1, 46):\n",
        "  st = (f\"sppa_statement{x}_teen_intake\")\n",
        "  print (st)\n",
        "\n"
      ]
    }
  ]
}